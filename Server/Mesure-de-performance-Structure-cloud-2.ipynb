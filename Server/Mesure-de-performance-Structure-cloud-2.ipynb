{
 "cells": [
  {
   "cell_type": "markdown",
   "id": "58dbb39c",
   "metadata": {},
   "source": [
    "# Import des données"
   ]
  },
  {
   "cell_type": "code",
   "execution_count": 1,
   "id": "f1a38944",
   "metadata": {},
   "outputs": [],
   "source": [
    "# pip install sshtunnel"
   ]
  },
  {
   "cell_type": "code",
   "execution_count": 1,
   "id": "ac3f9162",
   "metadata": {},
   "outputs": [
    {
     "ename": "KeyboardInterrupt",
     "evalue": "",
     "output_type": "error",
     "traceback": [
      "\u001b[1;31m---------------------------------------------------------------------------\u001b[0m",
      "\u001b[1;31mKeyboardInterrupt\u001b[0m                         Traceback (most recent call last)",
      "Input \u001b[1;32mIn [1]\u001b[0m, in \u001b[0;36m<cell line: 1>\u001b[1;34m()\u001b[0m\n\u001b[1;32m----> 1\u001b[0m \u001b[38;5;28;01mimport\u001b[39;00m \u001b[38;5;21;01mpymongo\u001b[39;00m\n\u001b[0;32m      2\u001b[0m \u001b[38;5;28;01mimport\u001b[39;00m \u001b[38;5;21;01mparamiko\u001b[39;00m\n\u001b[0;32m      3\u001b[0m \u001b[38;5;28;01mfrom\u001b[39;00m \u001b[38;5;21;01msshtunnel\u001b[39;00m \u001b[38;5;28;01mimport\u001b[39;00m SSHTunnelForwarder\n",
      "File \u001b[1;32m~\\anaconda3\\lib\\site-packages\\pymongo\\__init__.py:92\u001b[0m, in \u001b[0;36m<module>\u001b[1;34m\u001b[0m\n\u001b[0;32m     90\u001b[0m \u001b[38;5;28;01mfrom\u001b[39;00m \u001b[38;5;21;01mpymongo\u001b[39;00m\u001b[38;5;21;01m.\u001b[39;00m\u001b[38;5;21;01mcommon\u001b[39;00m \u001b[38;5;28;01mimport\u001b[39;00m MAX_SUPPORTED_WIRE_VERSION, MIN_SUPPORTED_WIRE_VERSION\n\u001b[0;32m     91\u001b[0m \u001b[38;5;28;01mfrom\u001b[39;00m \u001b[38;5;21;01mpymongo\u001b[39;00m\u001b[38;5;21;01m.\u001b[39;00m\u001b[38;5;21;01mcursor\u001b[39;00m \u001b[38;5;28;01mimport\u001b[39;00m CursorType\n\u001b[1;32m---> 92\u001b[0m \u001b[38;5;28;01mfrom\u001b[39;00m \u001b[38;5;21;01mpymongo\u001b[39;00m\u001b[38;5;21;01m.\u001b[39;00m\u001b[38;5;21;01mmongo_client\u001b[39;00m \u001b[38;5;28;01mimport\u001b[39;00m MongoClient\n\u001b[0;32m     93\u001b[0m \u001b[38;5;28;01mfrom\u001b[39;00m \u001b[38;5;21;01mpymongo\u001b[39;00m\u001b[38;5;21;01m.\u001b[39;00m\u001b[38;5;21;01moperations\u001b[39;00m \u001b[38;5;28;01mimport\u001b[39;00m (\n\u001b[0;32m     94\u001b[0m     DeleteMany,\n\u001b[0;32m     95\u001b[0m     DeleteOne,\n\u001b[1;32m   (...)\u001b[0m\n\u001b[0;32m    100\u001b[0m     UpdateOne,\n\u001b[0;32m    101\u001b[0m )\n\u001b[0;32m    102\u001b[0m \u001b[38;5;28;01mfrom\u001b[39;00m \u001b[38;5;21;01mpymongo\u001b[39;00m\u001b[38;5;21;01m.\u001b[39;00m\u001b[38;5;21;01mread_preferences\u001b[39;00m \u001b[38;5;28;01mimport\u001b[39;00m ReadPreference\n",
      "File \u001b[1;32m~\\anaconda3\\lib\\site-packages\\pymongo\\mongo_client.py:59\u001b[0m, in \u001b[0;36m<module>\u001b[1;34m\u001b[0m\n\u001b[0;32m     57\u001b[0m \u001b[38;5;28;01mfrom\u001b[39;00m \u001b[38;5;21;01mbson\u001b[39;00m\u001b[38;5;21;01m.\u001b[39;00m\u001b[38;5;21;01mson\u001b[39;00m \u001b[38;5;28;01mimport\u001b[39;00m SON\n\u001b[0;32m     58\u001b[0m \u001b[38;5;28;01mfrom\u001b[39;00m \u001b[38;5;21;01mbson\u001b[39;00m\u001b[38;5;21;01m.\u001b[39;00m\u001b[38;5;21;01mtimestamp\u001b[39;00m \u001b[38;5;28;01mimport\u001b[39;00m Timestamp\n\u001b[1;32m---> 59\u001b[0m \u001b[38;5;28;01mfrom\u001b[39;00m \u001b[38;5;21;01mpymongo\u001b[39;00m \u001b[38;5;28;01mimport\u001b[39;00m (\n\u001b[0;32m     60\u001b[0m     _csot,\n\u001b[0;32m     61\u001b[0m     client_session,\n\u001b[0;32m     62\u001b[0m     common,\n\u001b[0;32m     63\u001b[0m     database,\n\u001b[0;32m     64\u001b[0m     helpers,\n\u001b[0;32m     65\u001b[0m     message,\n\u001b[0;32m     66\u001b[0m     periodic_executor,\n\u001b[0;32m     67\u001b[0m     uri_parser,\n\u001b[0;32m     68\u001b[0m )\n\u001b[0;32m     69\u001b[0m \u001b[38;5;28;01mfrom\u001b[39;00m \u001b[38;5;21;01mpymongo\u001b[39;00m\u001b[38;5;21;01m.\u001b[39;00m\u001b[38;5;21;01mchange_stream\u001b[39;00m \u001b[38;5;28;01mimport\u001b[39;00m ChangeStream, ClusterChangeStream\n\u001b[0;32m     70\u001b[0m \u001b[38;5;28;01mfrom\u001b[39;00m \u001b[38;5;21;01mpymongo\u001b[39;00m\u001b[38;5;21;01m.\u001b[39;00m\u001b[38;5;21;01mclient_options\u001b[39;00m \u001b[38;5;28;01mimport\u001b[39;00m ClientOptions\n",
      "File \u001b[1;32m~\\anaconda3\\lib\\site-packages\\pymongo\\uri_parser.py:23\u001b[0m, in \u001b[0;36m<module>\u001b[1;34m\u001b[0m\n\u001b[0;32m     20\u001b[0m \u001b[38;5;28;01mfrom\u001b[39;00m \u001b[38;5;21;01mtyping\u001b[39;00m \u001b[38;5;28;01mimport\u001b[39;00m Any, Dict, List, Mapping, MutableMapping, Optional, Tuple, Union\n\u001b[0;32m     21\u001b[0m \u001b[38;5;28;01mfrom\u001b[39;00m \u001b[38;5;21;01murllib\u001b[39;00m\u001b[38;5;21;01m.\u001b[39;00m\u001b[38;5;21;01mparse\u001b[39;00m \u001b[38;5;28;01mimport\u001b[39;00m unquote_plus\n\u001b[1;32m---> 23\u001b[0m \u001b[38;5;28;01mfrom\u001b[39;00m \u001b[38;5;21;01mpymongo\u001b[39;00m\u001b[38;5;21;01m.\u001b[39;00m\u001b[38;5;21;01mclient_options\u001b[39;00m \u001b[38;5;28;01mimport\u001b[39;00m _parse_ssl_options\n\u001b[0;32m     24\u001b[0m \u001b[38;5;28;01mfrom\u001b[39;00m \u001b[38;5;21;01mpymongo\u001b[39;00m\u001b[38;5;21;01m.\u001b[39;00m\u001b[38;5;21;01mcommon\u001b[39;00m \u001b[38;5;28;01mimport\u001b[39;00m (\n\u001b[0;32m     25\u001b[0m     INTERNAL_URI_OPTION_NAME_MAP,\n\u001b[0;32m     26\u001b[0m     SRV_SERVICE_NAME,\n\u001b[1;32m   (...)\u001b[0m\n\u001b[0;32m     29\u001b[0m     get_validated_options,\n\u001b[0;32m     30\u001b[0m )\n\u001b[0;32m     31\u001b[0m \u001b[38;5;28;01mfrom\u001b[39;00m \u001b[38;5;21;01mpymongo\u001b[39;00m\u001b[38;5;21;01m.\u001b[39;00m\u001b[38;5;21;01merrors\u001b[39;00m \u001b[38;5;28;01mimport\u001b[39;00m ConfigurationError, InvalidURI\n",
      "File \u001b[1;32m~\\anaconda3\\lib\\site-packages\\pymongo\\client_options.py:26\u001b[0m, in \u001b[0;36m<module>\u001b[1;34m\u001b[0m\n\u001b[0;32m     24\u001b[0m \u001b[38;5;28;01mfrom\u001b[39;00m \u001b[38;5;21;01mpymongo\u001b[39;00m\u001b[38;5;21;01m.\u001b[39;00m\u001b[38;5;21;01merrors\u001b[39;00m \u001b[38;5;28;01mimport\u001b[39;00m ConfigurationError\n\u001b[0;32m     25\u001b[0m \u001b[38;5;28;01mfrom\u001b[39;00m \u001b[38;5;21;01mpymongo\u001b[39;00m\u001b[38;5;21;01m.\u001b[39;00m\u001b[38;5;21;01mmonitoring\u001b[39;00m \u001b[38;5;28;01mimport\u001b[39;00m _EventListeners\n\u001b[1;32m---> 26\u001b[0m \u001b[38;5;28;01mfrom\u001b[39;00m \u001b[38;5;21;01mpymongo\u001b[39;00m\u001b[38;5;21;01m.\u001b[39;00m\u001b[38;5;21;01mpool\u001b[39;00m \u001b[38;5;28;01mimport\u001b[39;00m PoolOptions\n\u001b[0;32m     27\u001b[0m \u001b[38;5;28;01mfrom\u001b[39;00m \u001b[38;5;21;01mpymongo\u001b[39;00m\u001b[38;5;21;01m.\u001b[39;00m\u001b[38;5;21;01mread_concern\u001b[39;00m \u001b[38;5;28;01mimport\u001b[39;00m ReadConcern\n\u001b[0;32m     28\u001b[0m \u001b[38;5;28;01mfrom\u001b[39;00m \u001b[38;5;21;01mpymongo\u001b[39;00m\u001b[38;5;21;01m.\u001b[39;00m\u001b[38;5;21;01mread_preferences\u001b[39;00m \u001b[38;5;28;01mimport\u001b[39;00m make_read_preference, read_pref_mode_from_name\n",
      "File \u001b[1;32m~\\anaconda3\\lib\\site-packages\\pymongo\\pool.py:61\u001b[0m, in \u001b[0;36m<module>\u001b[1;34m\u001b[0m\n\u001b[0;32m     59\u001b[0m \u001b[38;5;28;01mfrom\u001b[39;00m \u001b[38;5;21;01mpymongo\u001b[39;00m\u001b[38;5;21;01m.\u001b[39;00m\u001b[38;5;21;01mlock\u001b[39;00m \u001b[38;5;28;01mimport\u001b[39;00m _create_lock\n\u001b[0;32m     60\u001b[0m \u001b[38;5;28;01mfrom\u001b[39;00m \u001b[38;5;21;01mpymongo\u001b[39;00m\u001b[38;5;21;01m.\u001b[39;00m\u001b[38;5;21;01mmonitoring\u001b[39;00m \u001b[38;5;28;01mimport\u001b[39;00m ConnectionCheckOutFailedReason, ConnectionClosedReason\n\u001b[1;32m---> 61\u001b[0m \u001b[38;5;28;01mfrom\u001b[39;00m \u001b[38;5;21;01mpymongo\u001b[39;00m\u001b[38;5;21;01m.\u001b[39;00m\u001b[38;5;21;01mnetwork\u001b[39;00m \u001b[38;5;28;01mimport\u001b[39;00m command, receive_message\n\u001b[0;32m     62\u001b[0m \u001b[38;5;28;01mfrom\u001b[39;00m \u001b[38;5;21;01mpymongo\u001b[39;00m\u001b[38;5;21;01m.\u001b[39;00m\u001b[38;5;21;01mread_preferences\u001b[39;00m \u001b[38;5;28;01mimport\u001b[39;00m ReadPreference\n\u001b[0;32m     63\u001b[0m \u001b[38;5;28;01mfrom\u001b[39;00m \u001b[38;5;21;01mpymongo\u001b[39;00m\u001b[38;5;21;01m.\u001b[39;00m\u001b[38;5;21;01mserver_api\u001b[39;00m \u001b[38;5;28;01mimport\u001b[39;00m _add_to_command\n",
      "File \u001b[1;32m~\\anaconda3\\lib\\site-packages\\pymongo\\network.py:24\u001b[0m, in \u001b[0;36m<module>\u001b[1;34m\u001b[0m\n\u001b[0;32m     21\u001b[0m \u001b[38;5;28;01mimport\u001b[39;00m \u001b[38;5;21;01mtime\u001b[39;00m\n\u001b[0;32m     23\u001b[0m \u001b[38;5;28;01mfrom\u001b[39;00m \u001b[38;5;21;01mbson\u001b[39;00m \u001b[38;5;28;01mimport\u001b[39;00m _decode_all_selective\n\u001b[1;32m---> 24\u001b[0m \u001b[38;5;28;01mfrom\u001b[39;00m \u001b[38;5;21;01mpymongo\u001b[39;00m \u001b[38;5;28;01mimport\u001b[39;00m _csot, helpers, message, ssl_support\n\u001b[0;32m     25\u001b[0m \u001b[38;5;28;01mfrom\u001b[39;00m \u001b[38;5;21;01mpymongo\u001b[39;00m\u001b[38;5;21;01m.\u001b[39;00m\u001b[38;5;21;01mcommon\u001b[39;00m \u001b[38;5;28;01mimport\u001b[39;00m MAX_MESSAGE_SIZE\n\u001b[0;32m     26\u001b[0m \u001b[38;5;28;01mfrom\u001b[39;00m \u001b[38;5;21;01mpymongo\u001b[39;00m\u001b[38;5;21;01m.\u001b[39;00m\u001b[38;5;21;01mcompression_support\u001b[39;00m \u001b[38;5;28;01mimport\u001b[39;00m _NO_COMPRESSION, decompress\n",
      "File \u001b[1;32m~\\anaconda3\\lib\\site-packages\\pymongo\\ssl_support.py:22\u001b[0m, in \u001b[0;36m<module>\u001b[1;34m\u001b[0m\n\u001b[0;32m     19\u001b[0m HAVE_SSL \u001b[38;5;241m=\u001b[39m \u001b[38;5;28;01mTrue\u001b[39;00m\n\u001b[0;32m     21\u001b[0m \u001b[38;5;28;01mtry\u001b[39;00m:\n\u001b[1;32m---> 22\u001b[0m     \u001b[38;5;28;01mimport\u001b[39;00m \u001b[38;5;21;01mpymongo\u001b[39;00m\u001b[38;5;21;01m.\u001b[39;00m\u001b[38;5;21;01mpyopenssl_context\u001b[39;00m \u001b[38;5;28;01mas\u001b[39;00m \u001b[38;5;21;01m_ssl\u001b[39;00m\n\u001b[0;32m     23\u001b[0m \u001b[38;5;28;01mexcept\u001b[39;00m \u001b[38;5;167;01mImportError\u001b[39;00m:\n\u001b[0;32m     24\u001b[0m     \u001b[38;5;28;01mtry\u001b[39;00m:\n",
      "File \u001b[1;32m~\\anaconda3\\lib\\site-packages\\pymongo\\pyopenssl_context.py:26\u001b[0m, in \u001b[0;36m<module>\u001b[1;34m\u001b[0m\n\u001b[0;32m     23\u001b[0m \u001b[38;5;28;01mfrom\u001b[39;00m \u001b[38;5;21;01merrno\u001b[39;00m \u001b[38;5;28;01mimport\u001b[39;00m EINTR \u001b[38;5;28;01mas\u001b[39;00m _EINTR\n\u001b[0;32m     24\u001b[0m \u001b[38;5;28;01mfrom\u001b[39;00m \u001b[38;5;21;01mipaddress\u001b[39;00m \u001b[38;5;28;01mimport\u001b[39;00m ip_address \u001b[38;5;28;01mas\u001b[39;00m _ip_address\n\u001b[1;32m---> 26\u001b[0m \u001b[38;5;28;01mfrom\u001b[39;00m \u001b[38;5;21;01mcryptography\u001b[39;00m\u001b[38;5;21;01m.\u001b[39;00m\u001b[38;5;21;01mx509\u001b[39;00m \u001b[38;5;28;01mimport\u001b[39;00m load_der_x509_certificate \u001b[38;5;28;01mas\u001b[39;00m _load_der_x509_certificate\n\u001b[0;32m     27\u001b[0m \u001b[38;5;28;01mfrom\u001b[39;00m \u001b[38;5;21;01mOpenSSL\u001b[39;00m \u001b[38;5;28;01mimport\u001b[39;00m SSL \u001b[38;5;28;01mas\u001b[39;00m _SSL\n\u001b[0;32m     28\u001b[0m \u001b[38;5;28;01mfrom\u001b[39;00m \u001b[38;5;21;01mOpenSSL\u001b[39;00m \u001b[38;5;28;01mimport\u001b[39;00m crypto \u001b[38;5;28;01mas\u001b[39;00m _crypto\n",
      "File \u001b[1;32m~\\anaconda3\\lib\\site-packages\\cryptography\\x509\\__init__.py:7\u001b[0m, in \u001b[0;36m<module>\u001b[1;34m\u001b[0m\n\u001b[0;32m      1\u001b[0m \u001b[38;5;66;03m# This file is dual licensed under the terms of the Apache License, Version\u001b[39;00m\n\u001b[0;32m      2\u001b[0m \u001b[38;5;66;03m# 2.0, and the BSD License. See the LICENSE file in the root of this repository\u001b[39;00m\n\u001b[0;32m      3\u001b[0m \u001b[38;5;66;03m# for complete details.\u001b[39;00m\n\u001b[0;32m      6\u001b[0m \u001b[38;5;28;01mfrom\u001b[39;00m \u001b[38;5;21;01mcryptography\u001b[39;00m\u001b[38;5;21;01m.\u001b[39;00m\u001b[38;5;21;01mx509\u001b[39;00m \u001b[38;5;28;01mimport\u001b[39;00m certificate_transparency\n\u001b[1;32m----> 7\u001b[0m \u001b[38;5;28;01mfrom\u001b[39;00m \u001b[38;5;21;01mcryptography\u001b[39;00m\u001b[38;5;21;01m.\u001b[39;00m\u001b[38;5;21;01mx509\u001b[39;00m\u001b[38;5;21;01m.\u001b[39;00m\u001b[38;5;21;01mbase\u001b[39;00m \u001b[38;5;28;01mimport\u001b[39;00m (\n\u001b[0;32m      8\u001b[0m     AttributeNotFound,\n\u001b[0;32m      9\u001b[0m     Certificate,\n\u001b[0;32m     10\u001b[0m     CertificateBuilder,\n\u001b[0;32m     11\u001b[0m     CertificateRevocationList,\n\u001b[0;32m     12\u001b[0m     CertificateRevocationListBuilder,\n\u001b[0;32m     13\u001b[0m     CertificateSigningRequest,\n\u001b[0;32m     14\u001b[0m     CertificateSigningRequestBuilder,\n\u001b[0;32m     15\u001b[0m     InvalidVersion,\n\u001b[0;32m     16\u001b[0m     RevokedCertificate,\n\u001b[0;32m     17\u001b[0m     RevokedCertificateBuilder,\n\u001b[0;32m     18\u001b[0m     Version,\n\u001b[0;32m     19\u001b[0m     load_der_x509_certificate,\n\u001b[0;32m     20\u001b[0m     load_der_x509_crl,\n\u001b[0;32m     21\u001b[0m     load_der_x509_csr,\n\u001b[0;32m     22\u001b[0m     load_pem_x509_certificate,\n\u001b[0;32m     23\u001b[0m     load_pem_x509_crl,\n\u001b[0;32m     24\u001b[0m     load_pem_x509_csr,\n\u001b[0;32m     25\u001b[0m     random_serial_number,\n\u001b[0;32m     26\u001b[0m )\n\u001b[0;32m     27\u001b[0m \u001b[38;5;28;01mfrom\u001b[39;00m \u001b[38;5;21;01mcryptography\u001b[39;00m\u001b[38;5;21;01m.\u001b[39;00m\u001b[38;5;21;01mx509\u001b[39;00m\u001b[38;5;21;01m.\u001b[39;00m\u001b[38;5;21;01mextensions\u001b[39;00m \u001b[38;5;28;01mimport\u001b[39;00m (\n\u001b[0;32m     28\u001b[0m     AccessDescription,\n\u001b[0;32m     29\u001b[0m     AuthorityInformationAccess,\n\u001b[1;32m   (...)\u001b[0m\n\u001b[0;32m     68\u001b[0m     UserNotice,\n\u001b[0;32m     69\u001b[0m )\n\u001b[0;32m     70\u001b[0m \u001b[38;5;28;01mfrom\u001b[39;00m \u001b[38;5;21;01mcryptography\u001b[39;00m\u001b[38;5;21;01m.\u001b[39;00m\u001b[38;5;21;01mx509\u001b[39;00m\u001b[38;5;21;01m.\u001b[39;00m\u001b[38;5;21;01mgeneral_name\u001b[39;00m \u001b[38;5;28;01mimport\u001b[39;00m (\n\u001b[0;32m     71\u001b[0m     DNSName,\n\u001b[0;32m     72\u001b[0m     DirectoryName,\n\u001b[1;32m   (...)\u001b[0m\n\u001b[0;32m     80\u001b[0m     _GENERAL_NAMES,\n\u001b[0;32m     81\u001b[0m )\n",
      "File \u001b[1;32m~\\anaconda3\\lib\\site-packages\\cryptography\\x509\\base.py:12\u001b[0m, in \u001b[0;36m<module>\u001b[1;34m\u001b[0m\n\u001b[0;32m      9\u001b[0m \u001b[38;5;28;01mimport\u001b[39;00m \u001b[38;5;21;01mtyping\u001b[39;00m\n\u001b[0;32m     10\u001b[0m \u001b[38;5;28;01mfrom\u001b[39;00m \u001b[38;5;21;01menum\u001b[39;00m \u001b[38;5;28;01mimport\u001b[39;00m Enum\n\u001b[1;32m---> 12\u001b[0m \u001b[38;5;28;01mfrom\u001b[39;00m \u001b[38;5;21;01mcryptography\u001b[39;00m\u001b[38;5;21;01m.\u001b[39;00m\u001b[38;5;21;01mhazmat\u001b[39;00m\u001b[38;5;21;01m.\u001b[39;00m\u001b[38;5;21;01m_types\u001b[39;00m \u001b[38;5;28;01mimport\u001b[39;00m _PRIVATE_KEY_TYPES, _PUBLIC_KEY_TYPES\n\u001b[0;32m     13\u001b[0m \u001b[38;5;28;01mfrom\u001b[39;00m \u001b[38;5;21;01mcryptography\u001b[39;00m\u001b[38;5;21;01m.\u001b[39;00m\u001b[38;5;21;01mhazmat\u001b[39;00m\u001b[38;5;21;01m.\u001b[39;00m\u001b[38;5;21;01mbackends\u001b[39;00m \u001b[38;5;28;01mimport\u001b[39;00m _get_backend\n\u001b[0;32m     14\u001b[0m \u001b[38;5;28;01mfrom\u001b[39;00m \u001b[38;5;21;01mcryptography\u001b[39;00m\u001b[38;5;21;01m.\u001b[39;00m\u001b[38;5;21;01mhazmat\u001b[39;00m\u001b[38;5;21;01m.\u001b[39;00m\u001b[38;5;21;01mprimitives\u001b[39;00m \u001b[38;5;28;01mimport\u001b[39;00m hashes, serialization\n",
      "File \u001b[1;32m~\\anaconda3\\lib\\site-packages\\cryptography\\hazmat\\_types.py:7\u001b[0m, in \u001b[0;36m<module>\u001b[1;34m\u001b[0m\n\u001b[0;32m      1\u001b[0m \u001b[38;5;66;03m# This file is dual licensed under the terms of the Apache License, Version\u001b[39;00m\n\u001b[0;32m      2\u001b[0m \u001b[38;5;66;03m# 2.0, and the BSD License. See the LICENSE file in the root of this repository\u001b[39;00m\n\u001b[0;32m      3\u001b[0m \u001b[38;5;66;03m# for complete details.\u001b[39;00m\n\u001b[0;32m      5\u001b[0m \u001b[38;5;28;01mimport\u001b[39;00m \u001b[38;5;21;01mtyping\u001b[39;00m\n\u001b[1;32m----> 7\u001b[0m \u001b[38;5;28;01mfrom\u001b[39;00m \u001b[38;5;21;01mcryptography\u001b[39;00m\u001b[38;5;21;01m.\u001b[39;00m\u001b[38;5;21;01mhazmat\u001b[39;00m\u001b[38;5;21;01m.\u001b[39;00m\u001b[38;5;21;01mprimitives\u001b[39;00m\u001b[38;5;21;01m.\u001b[39;00m\u001b[38;5;21;01masymmetric\u001b[39;00m \u001b[38;5;28;01mimport\u001b[39;00m (\n\u001b[0;32m      8\u001b[0m     dsa,\n\u001b[0;32m      9\u001b[0m     ec,\n\u001b[0;32m     10\u001b[0m     ed25519,\n\u001b[0;32m     11\u001b[0m     ed448,\n\u001b[0;32m     12\u001b[0m     rsa,\n\u001b[0;32m     13\u001b[0m )\n\u001b[0;32m     16\u001b[0m _PUBLIC_KEY_TYPES \u001b[38;5;241m=\u001b[39m typing\u001b[38;5;241m.\u001b[39mUnion[\n\u001b[0;32m     17\u001b[0m     dsa\u001b[38;5;241m.\u001b[39mDSAPublicKey,\n\u001b[0;32m     18\u001b[0m     rsa\u001b[38;5;241m.\u001b[39mRSAPublicKey,\n\u001b[1;32m   (...)\u001b[0m\n\u001b[0;32m     21\u001b[0m     ed448\u001b[38;5;241m.\u001b[39mEd448PublicKey,\n\u001b[0;32m     22\u001b[0m ]\n\u001b[0;32m     23\u001b[0m _PRIVATE_KEY_TYPES \u001b[38;5;241m=\u001b[39m typing\u001b[38;5;241m.\u001b[39mUnion[\n\u001b[0;32m     24\u001b[0m     ed25519\u001b[38;5;241m.\u001b[39mEd25519PrivateKey,\n\u001b[0;32m     25\u001b[0m     ed448\u001b[38;5;241m.\u001b[39mEd448PrivateKey,\n\u001b[1;32m   (...)\u001b[0m\n\u001b[0;32m     28\u001b[0m     ec\u001b[38;5;241m.\u001b[39mEllipticCurvePrivateKey,\n\u001b[0;32m     29\u001b[0m ]\n",
      "File \u001b[1;32m~\\anaconda3\\lib\\site-packages\\cryptography\\hazmat\\primitives\\asymmetric\\dsa.py:12\u001b[0m, in \u001b[0;36m<module>\u001b[1;34m\u001b[0m\n\u001b[0;32m     10\u001b[0m \u001b[38;5;28;01mfrom\u001b[39;00m \u001b[38;5;21;01mcryptography\u001b[39;00m\u001b[38;5;21;01m.\u001b[39;00m\u001b[38;5;21;01mhazmat\u001b[39;00m\u001b[38;5;21;01m.\u001b[39;00m\u001b[38;5;21;01mbackends\u001b[39;00m \u001b[38;5;28;01mimport\u001b[39;00m _get_backend\n\u001b[0;32m     11\u001b[0m \u001b[38;5;28;01mfrom\u001b[39;00m \u001b[38;5;21;01mcryptography\u001b[39;00m\u001b[38;5;21;01m.\u001b[39;00m\u001b[38;5;21;01mhazmat\u001b[39;00m\u001b[38;5;21;01m.\u001b[39;00m\u001b[38;5;21;01mprimitives\u001b[39;00m \u001b[38;5;28;01mimport\u001b[39;00m _serialization, hashes\n\u001b[1;32m---> 12\u001b[0m \u001b[38;5;28;01mfrom\u001b[39;00m \u001b[38;5;21;01mcryptography\u001b[39;00m\u001b[38;5;21;01m.\u001b[39;00m\u001b[38;5;21;01mhazmat\u001b[39;00m\u001b[38;5;21;01m.\u001b[39;00m\u001b[38;5;21;01mprimitives\u001b[39;00m\u001b[38;5;21;01m.\u001b[39;00m\u001b[38;5;21;01masymmetric\u001b[39;00m \u001b[38;5;28;01mimport\u001b[39;00m (\n\u001b[0;32m     13\u001b[0m     AsymmetricSignatureContext,\n\u001b[0;32m     14\u001b[0m     AsymmetricVerificationContext,\n\u001b[0;32m     15\u001b[0m     utils \u001b[38;5;28;01mas\u001b[39;00m asym_utils,\n\u001b[0;32m     16\u001b[0m )\n\u001b[0;32m     19\u001b[0m \u001b[38;5;28;01mclass\u001b[39;00m \u001b[38;5;21;01mDSAParameters\u001b[39;00m(metaclass\u001b[38;5;241m=\u001b[39mabc\u001b[38;5;241m.\u001b[39mABCMeta):\n\u001b[0;32m     20\u001b[0m     \u001b[38;5;129m@abc\u001b[39m\u001b[38;5;241m.\u001b[39mabstractmethod\n\u001b[0;32m     21\u001b[0m     \u001b[38;5;28;01mdef\u001b[39;00m \u001b[38;5;21mgenerate_private_key\u001b[39m(\u001b[38;5;28mself\u001b[39m) \u001b[38;5;241m-\u001b[39m\u001b[38;5;241m>\u001b[39m \u001b[38;5;124m\"\u001b[39m\u001b[38;5;124mDSAPrivateKey\u001b[39m\u001b[38;5;124m\"\u001b[39m:\n",
      "File \u001b[1;32m<frozen importlib._bootstrap>:1007\u001b[0m, in \u001b[0;36m_find_and_load\u001b[1;34m(name, import_)\u001b[0m\n",
      "File \u001b[1;32m<frozen importlib._bootstrap>:982\u001b[0m, in \u001b[0;36m_find_and_load_unlocked\u001b[1;34m(name, import_)\u001b[0m\n",
      "File \u001b[1;32m<frozen importlib._bootstrap>:925\u001b[0m, in \u001b[0;36m_find_spec\u001b[1;34m(name, path, target)\u001b[0m\n",
      "File \u001b[1;32m<frozen importlib._bootstrap_external>:1423\u001b[0m, in \u001b[0;36mfind_spec\u001b[1;34m(cls, fullname, path, target)\u001b[0m\n",
      "File \u001b[1;32m<frozen importlib._bootstrap_external>:1395\u001b[0m, in \u001b[0;36m_get_spec\u001b[1;34m(cls, fullname, path, target)\u001b[0m\n",
      "File \u001b[1;32m<frozen importlib._bootstrap_external>:1522\u001b[0m, in \u001b[0;36mfind_spec\u001b[1;34m(self, fullname, target)\u001b[0m\n",
      "File \u001b[1;32m<frozen importlib._bootstrap_external>:142\u001b[0m, in \u001b[0;36m_path_stat\u001b[1;34m(path)\u001b[0m\n",
      "\u001b[1;31mKeyboardInterrupt\u001b[0m: "
     ]
    }
   ],
   "source": [
    "import pymongo\n",
    "import paramiko\n",
    "from sshtunnel import SSHTunnelForwarder\n",
    "import pprint\n",
    "ssh_host = '20.16.84.33'\n",
    "ssh_user = 'administrateur'\n",
    "ssh_pass = 'SuperPassword!1'  \n",
    "server = SSHTunnelForwarder(\n",
    "    ssh_host,\n",
    "    ssh_username=ssh_user,\n",
    "    ssh_password=ssh_pass,\n",
    "    remote_bind_address=('mesiin592023-00049', 30000)\n",
    ")\n",
    "\n",
    "server.start()\n",
    "\n",
    "client = pymongo.MongoClient(f'mongodb://mesiin592023-00049:30000/')\n",
    "db = client['myDatabase']"
   ]
  },
  {
   "cell_type": "code",
   "execution_count": 31,
   "id": "dec37ab3",
   "metadata": {},
   "outputs": [
    {
     "name": "stdout",
     "output_type": "stream",
     "text": [
      "Database(MongoClient(host=['mesiin592023-00049:30000'], document_class=dict, tz_aware=False, connect=True), 'myDatabase')\n"
     ]
    }
   ],
   "source": [
    "print(db)"
   ]
  },
  {
   "cell_type": "code",
   "execution_count": 35,
   "id": "baf8254b",
   "metadata": {},
   "outputs": [
    {
     "ename": "ServerSelectionTimeoutError",
     "evalue": "mesiin592023-00049:30000: [Errno 11001] getaddrinfo failed, Timeout: 30s, Topology Description: <TopologyDescription id: 65818184a730e584733cc917, topology_type: Unknown, servers: [<ServerDescription ('mesiin592023-00049', 30000) server_type: Unknown, rtt: None, error=AutoReconnect('mesiin592023-00049:30000: [Errno 11001] getaddrinfo failed')>]>",
     "output_type": "error",
     "traceback": [
      "\u001b[1;31m---------------------------------------------------------------------------\u001b[0m",
      "\u001b[1;31mServerSelectionTimeoutError\u001b[0m               Traceback (most recent call last)",
      "Input \u001b[1;32mIn [35]\u001b[0m, in \u001b[0;36m<cell line: 1>\u001b[1;34m()\u001b[0m\n\u001b[1;32m----> 1\u001b[0m database_list \u001b[38;5;241m=\u001b[39m \u001b[43mclient\u001b[49m\u001b[38;5;241;43m.\u001b[39;49m\u001b[43mlist_database_names\u001b[49m\u001b[43m(\u001b[49m\u001b[43m)\u001b[49m\n\u001b[0;32m      2\u001b[0m \u001b[38;5;28mprint\u001b[39m(database_list)\n",
      "File \u001b[1;32m~\\anaconda3\\lib\\site-packages\\pymongo\\mongo_client.py:1867\u001b[0m, in \u001b[0;36mMongoClient.list_database_names\u001b[1;34m(self, session, comment)\u001b[0m\n\u001b[0;32m   1849\u001b[0m \u001b[38;5;28;01mdef\u001b[39;00m \u001b[38;5;21mlist_database_names\u001b[39m(\n\u001b[0;32m   1850\u001b[0m     \u001b[38;5;28mself\u001b[39m,\n\u001b[0;32m   1851\u001b[0m     session: Optional[client_session\u001b[38;5;241m.\u001b[39mClientSession] \u001b[38;5;241m=\u001b[39m \u001b[38;5;28;01mNone\u001b[39;00m,\n\u001b[0;32m   1852\u001b[0m     comment: Optional[Any] \u001b[38;5;241m=\u001b[39m \u001b[38;5;28;01mNone\u001b[39;00m,\n\u001b[0;32m   1853\u001b[0m ) \u001b[38;5;241m-\u001b[39m\u001b[38;5;241m>\u001b[39m List[\u001b[38;5;28mstr\u001b[39m]:\n\u001b[0;32m   1854\u001b[0m \u001b[38;5;250m    \u001b[39m\u001b[38;5;124;03m\"\"\"Get a list of the names of all databases on the connected server.\u001b[39;00m\n\u001b[0;32m   1855\u001b[0m \n\u001b[0;32m   1856\u001b[0m \u001b[38;5;124;03m    :Parameters:\u001b[39;00m\n\u001b[1;32m   (...)\u001b[0m\n\u001b[0;32m   1865\u001b[0m \u001b[38;5;124;03m    .. versionadded:: 3.6\u001b[39;00m\n\u001b[0;32m   1866\u001b[0m \u001b[38;5;124;03m    \"\"\"\u001b[39;00m\n\u001b[1;32m-> 1867\u001b[0m     \u001b[38;5;28;01mreturn\u001b[39;00m [doc[\u001b[38;5;124m\"\u001b[39m\u001b[38;5;124mname\u001b[39m\u001b[38;5;124m\"\u001b[39m] \u001b[38;5;28;01mfor\u001b[39;00m doc \u001b[38;5;129;01min\u001b[39;00m \u001b[38;5;28;43mself\u001b[39;49m\u001b[38;5;241;43m.\u001b[39;49m\u001b[43mlist_databases\u001b[49m\u001b[43m(\u001b[49m\u001b[43msession\u001b[49m\u001b[43m,\u001b[49m\u001b[43m \u001b[49m\u001b[43mnameOnly\u001b[49m\u001b[38;5;241;43m=\u001b[39;49m\u001b[38;5;28;43;01mTrue\u001b[39;49;00m\u001b[43m,\u001b[49m\u001b[43m \u001b[49m\u001b[43mcomment\u001b[49m\u001b[38;5;241;43m=\u001b[39;49m\u001b[43mcomment\u001b[49m\u001b[43m)\u001b[49m]\n",
      "File \u001b[1;32m~\\anaconda3\\lib\\site-packages\\pymongo\\mongo_client.py:1840\u001b[0m, in \u001b[0;36mMongoClient.list_databases\u001b[1;34m(self, session, comment, **kwargs)\u001b[0m\n\u001b[0;32m   1838\u001b[0m     cmd[\u001b[38;5;124m\"\u001b[39m\u001b[38;5;124mcomment\u001b[39m\u001b[38;5;124m\"\u001b[39m] \u001b[38;5;241m=\u001b[39m comment\n\u001b[0;32m   1839\u001b[0m admin \u001b[38;5;241m=\u001b[39m \u001b[38;5;28mself\u001b[39m\u001b[38;5;241m.\u001b[39m_database_default_options(\u001b[38;5;124m\"\u001b[39m\u001b[38;5;124madmin\u001b[39m\u001b[38;5;124m\"\u001b[39m)\n\u001b[1;32m-> 1840\u001b[0m res \u001b[38;5;241m=\u001b[39m \u001b[43madmin\u001b[49m\u001b[38;5;241;43m.\u001b[39;49m\u001b[43m_retryable_read_command\u001b[49m\u001b[43m(\u001b[49m\u001b[43mcmd\u001b[49m\u001b[43m,\u001b[49m\u001b[43m \u001b[49m\u001b[43msession\u001b[49m\u001b[38;5;241;43m=\u001b[39;49m\u001b[43msession\u001b[49m\u001b[43m)\u001b[49m\n\u001b[0;32m   1841\u001b[0m \u001b[38;5;66;03m# listDatabases doesn't return a cursor (yet). Fake one.\u001b[39;00m\n\u001b[0;32m   1842\u001b[0m cursor \u001b[38;5;241m=\u001b[39m {\n\u001b[0;32m   1843\u001b[0m     \u001b[38;5;124m\"\u001b[39m\u001b[38;5;124mid\u001b[39m\u001b[38;5;124m\"\u001b[39m: \u001b[38;5;241m0\u001b[39m,\n\u001b[0;32m   1844\u001b[0m     \u001b[38;5;124m\"\u001b[39m\u001b[38;5;124mfirstBatch\u001b[39m\u001b[38;5;124m\"\u001b[39m: res[\u001b[38;5;124m\"\u001b[39m\u001b[38;5;124mdatabases\u001b[39m\u001b[38;5;124m\"\u001b[39m],\n\u001b[0;32m   1845\u001b[0m     \u001b[38;5;124m\"\u001b[39m\u001b[38;5;124mns\u001b[39m\u001b[38;5;124m\"\u001b[39m: \u001b[38;5;124m\"\u001b[39m\u001b[38;5;124madmin.$cmd\u001b[39m\u001b[38;5;124m\"\u001b[39m,\n\u001b[0;32m   1846\u001b[0m }\n",
      "File \u001b[1;32m~\\anaconda3\\lib\\site-packages\\pymongo\\database.py:849\u001b[0m, in \u001b[0;36mDatabase._retryable_read_command\u001b[1;34m(self, command, value, check, allowable_errors, read_preference, codec_options, session, **kwargs)\u001b[0m\n\u001b[0;32m    836\u001b[0m \u001b[38;5;28;01mdef\u001b[39;00m \u001b[38;5;21m_cmd\u001b[39m(session, server, sock_info, read_preference):\n\u001b[0;32m    837\u001b[0m     \u001b[38;5;28;01mreturn\u001b[39;00m \u001b[38;5;28mself\u001b[39m\u001b[38;5;241m.\u001b[39m_command(\n\u001b[0;32m    838\u001b[0m         sock_info,\n\u001b[0;32m    839\u001b[0m         command,\n\u001b[1;32m   (...)\u001b[0m\n\u001b[0;32m    846\u001b[0m         \u001b[38;5;241m*\u001b[39m\u001b[38;5;241m*\u001b[39mkwargs,\n\u001b[0;32m    847\u001b[0m     )\n\u001b[1;32m--> 849\u001b[0m \u001b[38;5;28;01mreturn\u001b[39;00m \u001b[38;5;28;43mself\u001b[39;49m\u001b[38;5;241;43m.\u001b[39;49m\u001b[43m__client\u001b[49m\u001b[38;5;241;43m.\u001b[39;49m\u001b[43m_retryable_read\u001b[49m\u001b[43m(\u001b[49m\u001b[43m_cmd\u001b[49m\u001b[43m,\u001b[49m\u001b[43m \u001b[49m\u001b[43mread_preference\u001b[49m\u001b[43m,\u001b[49m\u001b[43m \u001b[49m\u001b[43msession\u001b[49m\u001b[43m)\u001b[49m\n",
      "File \u001b[1;32m~\\anaconda3\\lib\\site-packages\\pymongo\\_csot.py:105\u001b[0m, in \u001b[0;36mapply.<locals>.csot_wrapper\u001b[1;34m(self, *args, **kwargs)\u001b[0m\n\u001b[0;32m    103\u001b[0m         \u001b[38;5;28;01mwith\u001b[39;00m _TimeoutContext(timeout):\n\u001b[0;32m    104\u001b[0m             \u001b[38;5;28;01mreturn\u001b[39;00m func(\u001b[38;5;28mself\u001b[39m, \u001b[38;5;241m*\u001b[39margs, \u001b[38;5;241m*\u001b[39m\u001b[38;5;241m*\u001b[39mkwargs)\n\u001b[1;32m--> 105\u001b[0m \u001b[38;5;28;01mreturn\u001b[39;00m func(\u001b[38;5;28mself\u001b[39m, \u001b[38;5;241m*\u001b[39margs, \u001b[38;5;241m*\u001b[39m\u001b[38;5;241m*\u001b[39mkwargs)\n",
      "File \u001b[1;32m~\\anaconda3\\lib\\site-packages\\pymongo\\mongo_client.py:1441\u001b[0m, in \u001b[0;36mMongoClient._retryable_read\u001b[1;34m(self, func, read_pref, session, address, retryable)\u001b[0m\n\u001b[0;32m   1439\u001b[0m         \u001b[38;5;28;01mraise\u001b[39;00m last_error\n\u001b[0;32m   1440\u001b[0m \u001b[38;5;28;01mtry\u001b[39;00m:\n\u001b[1;32m-> 1441\u001b[0m     server \u001b[38;5;241m=\u001b[39m \u001b[38;5;28;43mself\u001b[39;49m\u001b[38;5;241;43m.\u001b[39;49m\u001b[43m_select_server\u001b[49m\u001b[43m(\u001b[49m\u001b[43mread_pref\u001b[49m\u001b[43m,\u001b[49m\u001b[43m \u001b[49m\u001b[43msession\u001b[49m\u001b[43m,\u001b[49m\u001b[43m \u001b[49m\u001b[43maddress\u001b[49m\u001b[38;5;241;43m=\u001b[39;49m\u001b[43maddress\u001b[49m\u001b[43m)\u001b[49m\n\u001b[0;32m   1442\u001b[0m     \u001b[38;5;28;01mwith\u001b[39;00m \u001b[38;5;28mself\u001b[39m\u001b[38;5;241m.\u001b[39m_socket_from_server(read_pref, server, session) \u001b[38;5;28;01mas\u001b[39;00m (sock_info, read_pref):\n\u001b[0;32m   1443\u001b[0m         \u001b[38;5;28;01mif\u001b[39;00m retrying \u001b[38;5;129;01mand\u001b[39;00m \u001b[38;5;129;01mnot\u001b[39;00m retryable:\n\u001b[0;32m   1444\u001b[0m             \u001b[38;5;66;03m# A retry is not possible because this server does\u001b[39;00m\n\u001b[0;32m   1445\u001b[0m             \u001b[38;5;66;03m# not support retryable reads, raise the last error.\u001b[39;00m\n",
      "File \u001b[1;32m~\\anaconda3\\lib\\site-packages\\pymongo\\mongo_client.py:1257\u001b[0m, in \u001b[0;36mMongoClient._select_server\u001b[1;34m(self, server_selector, session, address)\u001b[0m\n\u001b[0;32m   1255\u001b[0m             \u001b[38;5;28;01mraise\u001b[39;00m AutoReconnect(\u001b[38;5;124m\"\u001b[39m\u001b[38;5;124mserver \u001b[39m\u001b[38;5;132;01m%s\u001b[39;00m\u001b[38;5;124m:\u001b[39m\u001b[38;5;132;01m%d\u001b[39;00m\u001b[38;5;124m no longer available\u001b[39m\u001b[38;5;124m\"\u001b[39m \u001b[38;5;241m%\u001b[39m address)\n\u001b[0;32m   1256\u001b[0m     \u001b[38;5;28;01melse\u001b[39;00m:\n\u001b[1;32m-> 1257\u001b[0m         server \u001b[38;5;241m=\u001b[39m \u001b[43mtopology\u001b[49m\u001b[38;5;241;43m.\u001b[39;49m\u001b[43mselect_server\u001b[49m\u001b[43m(\u001b[49m\u001b[43mserver_selector\u001b[49m\u001b[43m)\u001b[49m\n\u001b[0;32m   1258\u001b[0m     \u001b[38;5;28;01mreturn\u001b[39;00m server\n\u001b[0;32m   1259\u001b[0m \u001b[38;5;28;01mexcept\u001b[39;00m PyMongoError \u001b[38;5;28;01mas\u001b[39;00m exc:\n\u001b[0;32m   1260\u001b[0m     \u001b[38;5;66;03m# Server selection errors in a transaction are transient.\u001b[39;00m\n",
      "File \u001b[1;32m~\\anaconda3\\lib\\site-packages\\pymongo\\topology.py:272\u001b[0m, in \u001b[0;36mTopology.select_server\u001b[1;34m(self, selector, server_selection_timeout, address)\u001b[0m\n\u001b[0;32m    270\u001b[0m \u001b[38;5;28;01mdef\u001b[39;00m \u001b[38;5;21mselect_server\u001b[39m(\u001b[38;5;28mself\u001b[39m, selector, server_selection_timeout\u001b[38;5;241m=\u001b[39m\u001b[38;5;28;01mNone\u001b[39;00m, address\u001b[38;5;241m=\u001b[39m\u001b[38;5;28;01mNone\u001b[39;00m):\n\u001b[0;32m    271\u001b[0m \u001b[38;5;250m    \u001b[39m\u001b[38;5;124;03m\"\"\"Like select_servers, but choose a random server if several match.\"\"\"\u001b[39;00m\n\u001b[1;32m--> 272\u001b[0m     server \u001b[38;5;241m=\u001b[39m \u001b[38;5;28;43mself\u001b[39;49m\u001b[38;5;241;43m.\u001b[39;49m\u001b[43m_select_server\u001b[49m\u001b[43m(\u001b[49m\u001b[43mselector\u001b[49m\u001b[43m,\u001b[49m\u001b[43m \u001b[49m\u001b[43mserver_selection_timeout\u001b[49m\u001b[43m,\u001b[49m\u001b[43m \u001b[49m\u001b[43maddress\u001b[49m\u001b[43m)\u001b[49m\n\u001b[0;32m    273\u001b[0m     \u001b[38;5;28;01mif\u001b[39;00m _csot\u001b[38;5;241m.\u001b[39mget_timeout():\n\u001b[0;32m    274\u001b[0m         _csot\u001b[38;5;241m.\u001b[39mset_rtt(server\u001b[38;5;241m.\u001b[39mdescription\u001b[38;5;241m.\u001b[39mround_trip_time)\n",
      "File \u001b[1;32m~\\anaconda3\\lib\\site-packages\\pymongo\\topology.py:261\u001b[0m, in \u001b[0;36mTopology._select_server\u001b[1;34m(self, selector, server_selection_timeout, address)\u001b[0m\n\u001b[0;32m    260\u001b[0m \u001b[38;5;28;01mdef\u001b[39;00m \u001b[38;5;21m_select_server\u001b[39m(\u001b[38;5;28mself\u001b[39m, selector, server_selection_timeout\u001b[38;5;241m=\u001b[39m\u001b[38;5;28;01mNone\u001b[39;00m, address\u001b[38;5;241m=\u001b[39m\u001b[38;5;28;01mNone\u001b[39;00m):\n\u001b[1;32m--> 261\u001b[0m     servers \u001b[38;5;241m=\u001b[39m \u001b[38;5;28;43mself\u001b[39;49m\u001b[38;5;241;43m.\u001b[39;49m\u001b[43mselect_servers\u001b[49m\u001b[43m(\u001b[49m\u001b[43mselector\u001b[49m\u001b[43m,\u001b[49m\u001b[43m \u001b[49m\u001b[43mserver_selection_timeout\u001b[49m\u001b[43m,\u001b[49m\u001b[43m \u001b[49m\u001b[43maddress\u001b[49m\u001b[43m)\u001b[49m\n\u001b[0;32m    262\u001b[0m     \u001b[38;5;28;01mif\u001b[39;00m \u001b[38;5;28mlen\u001b[39m(servers) \u001b[38;5;241m==\u001b[39m \u001b[38;5;241m1\u001b[39m:\n\u001b[0;32m    263\u001b[0m         \u001b[38;5;28;01mreturn\u001b[39;00m servers[\u001b[38;5;241m0\u001b[39m]\n",
      "File \u001b[1;32m~\\anaconda3\\lib\\site-packages\\pymongo\\topology.py:223\u001b[0m, in \u001b[0;36mTopology.select_servers\u001b[1;34m(self, selector, server_selection_timeout, address)\u001b[0m\n\u001b[0;32m    220\u001b[0m     server_timeout \u001b[38;5;241m=\u001b[39m server_selection_timeout\n\u001b[0;32m    222\u001b[0m \u001b[38;5;28;01mwith\u001b[39;00m \u001b[38;5;28mself\u001b[39m\u001b[38;5;241m.\u001b[39m_lock:\n\u001b[1;32m--> 223\u001b[0m     server_descriptions \u001b[38;5;241m=\u001b[39m \u001b[38;5;28;43mself\u001b[39;49m\u001b[38;5;241;43m.\u001b[39;49m\u001b[43m_select_servers_loop\u001b[49m\u001b[43m(\u001b[49m\u001b[43mselector\u001b[49m\u001b[43m,\u001b[49m\u001b[43m \u001b[49m\u001b[43mserver_timeout\u001b[49m\u001b[43m,\u001b[49m\u001b[43m \u001b[49m\u001b[43maddress\u001b[49m\u001b[43m)\u001b[49m\n\u001b[0;32m    225\u001b[0m     \u001b[38;5;28;01mreturn\u001b[39;00m [\u001b[38;5;28mself\u001b[39m\u001b[38;5;241m.\u001b[39mget_server_by_address(sd\u001b[38;5;241m.\u001b[39maddress) \u001b[38;5;28;01mfor\u001b[39;00m sd \u001b[38;5;129;01min\u001b[39;00m server_descriptions]\n",
      "File \u001b[1;32m~\\anaconda3\\lib\\site-packages\\pymongo\\topology.py:238\u001b[0m, in \u001b[0;36mTopology._select_servers_loop\u001b[1;34m(self, selector, timeout, address)\u001b[0m\n\u001b[0;32m    235\u001b[0m \u001b[38;5;28;01mwhile\u001b[39;00m \u001b[38;5;129;01mnot\u001b[39;00m server_descriptions:\n\u001b[0;32m    236\u001b[0m     \u001b[38;5;66;03m# No suitable servers.\u001b[39;00m\n\u001b[0;32m    237\u001b[0m     \u001b[38;5;28;01mif\u001b[39;00m timeout \u001b[38;5;241m==\u001b[39m \u001b[38;5;241m0\u001b[39m \u001b[38;5;129;01mor\u001b[39;00m now \u001b[38;5;241m>\u001b[39m end_time:\n\u001b[1;32m--> 238\u001b[0m         \u001b[38;5;28;01mraise\u001b[39;00m ServerSelectionTimeoutError(\n\u001b[0;32m    239\u001b[0m             \u001b[38;5;124m\"\u001b[39m\u001b[38;5;132;01m%s\u001b[39;00m\u001b[38;5;124m, Timeout: \u001b[39m\u001b[38;5;132;01m%s\u001b[39;00m\u001b[38;5;124ms, Topology Description: \u001b[39m\u001b[38;5;132;01m%r\u001b[39;00m\u001b[38;5;124m\"\u001b[39m\n\u001b[0;32m    240\u001b[0m             \u001b[38;5;241m%\u001b[39m (\u001b[38;5;28mself\u001b[39m\u001b[38;5;241m.\u001b[39m_error_message(selector), timeout, \u001b[38;5;28mself\u001b[39m\u001b[38;5;241m.\u001b[39mdescription)\n\u001b[0;32m    241\u001b[0m         )\n\u001b[0;32m    243\u001b[0m     \u001b[38;5;28mself\u001b[39m\u001b[38;5;241m.\u001b[39m_ensure_opened()\n\u001b[0;32m    244\u001b[0m     \u001b[38;5;28mself\u001b[39m\u001b[38;5;241m.\u001b[39m_request_check_all()\n",
      "\u001b[1;31mServerSelectionTimeoutError\u001b[0m: mesiin592023-00049:30000: [Errno 11001] getaddrinfo failed, Timeout: 30s, Topology Description: <TopologyDescription id: 65818184a730e584733cc917, topology_type: Unknown, servers: [<ServerDescription ('mesiin592023-00049', 30000) server_type: Unknown, rtt: None, error=AutoReconnect('mesiin592023-00049:30000: [Errno 11001] getaddrinfo failed')>]>"
     ]
    }
   ],
   "source": [
    "database_list = client.list_database_names()\n",
    "print(database_list)"
   ]
  },
  {
   "cell_type": "code",
   "execution_count": 2,
   "id": "7f5eb21e",
   "metadata": {},
   "outputs": [],
   "source": [
    "import pandas as pd\n",
    "import numpy as np\n",
    "\n",
    "json_data_actors = pd.read_json('C:/Users/willi/Desktop/denActors.json', lines=True)\n",
    "\n",
    "json_data_movies = pd.read_json('C:/Users/willi/Desktop/denMovies.json', lines=True)\n",
    "\n",
    "json_data_movies['rank'] = pd.to_numeric(json_data_movies['rank'], errors='coerce')\n",
    "\n",
    "json_data_movies['year'] = pd.to_numeric(json_data_movies['year'], errors='coerce').astype('Int64')\n",
    "json_data_movies[\"year\"] = json_data_movies[\"year\"].replace({pd.NA:-1})\n",
    "\n",
    "json_data_directors = pd.read_json('C:/Users/willi/Desktop/denDirectors.json', lines=True)\n"
   ]
  },
  {
   "cell_type": "code",
   "execution_count": null,
   "id": "229b529f",
   "metadata": {},
   "outputs": [],
   "source": []
  },
  {
   "cell_type": "code",
   "execution_count": 20,
   "id": "14aed1db",
   "metadata": {},
   "outputs": [],
   "source": [
    "data_insert_actors = json_data_actors.to_dict(orient='records')\n",
    "data_insert_movies = json_data_movies.to_dict(orient='records')\n",
    "data_insert_directors = json_data_directors.to_dict(orient='records')"
   ]
  },
  {
   "cell_type": "markdown",
   "id": "240bf230",
   "metadata": {},
   "source": [
    "Insertion des json directors dans la db"
   ]
  },
  {
   "cell_type": "code",
   "execution_count": null,
   "id": "373b9995",
   "metadata": {},
   "outputs": [],
   "source": [
    "db = client['myDatabase']\n",
    "\n",
    "collection = db['directors']\n",
    "\n",
    "result = collection.insert_many(data_insert_directors)\n",
    "print(f\"Inserted {len(result.inserted_ids)} documents\")"
   ]
  },
  {
   "cell_type": "markdown",
   "id": "e095e765",
   "metadata": {},
   "source": [
    "Insertion des json movies dans la db"
   ]
  },
  {
   "cell_type": "code",
   "execution_count": 5,
   "id": "a3992dd9",
   "metadata": {},
   "outputs": [
    {
     "name": "stdout",
     "output_type": "stream",
     "text": [
      "Inserted 388270 documents\n"
     ]
    }
   ],
   "source": [
    "db = client['myDatabase']\n",
    "\n",
    "collection = db['movies']\n",
    "\n",
    "result = collection.insert_many(data_insert_movies)\n",
    "print(f\"Inserted {len(result.inserted_ids)} documents\")"
   ]
  },
  {
   "cell_type": "markdown",
   "id": "fa53892e",
   "metadata": {},
   "source": [
    "Insert du json actors dans la db:"
   ]
  },
  {
   "cell_type": "code",
   "execution_count": 6,
   "id": "9f15c4b6",
   "metadata": {
    "scrolled": true
   },
   "outputs": [
    {
     "name": "stdout",
     "output_type": "stream",
     "text": [
      "Inserted 817719 documents\n"
     ]
    }
   ],
   "source": [
    "db = client['myDatabase']\n",
    "\n",
    "collection = db['actors']\n",
    "\n",
    "result = collection.insert_many(data_insert_actors)\n",
    "print(f\"Inserted {len(result.inserted_ids)} documents\")"
   ]
  },
  {
   "cell_type": "markdown",
   "id": "4b180f3f",
   "metadata": {},
   "source": [
    "# Mesure des performances"
   ]
  },
  {
   "cell_type": "markdown",
   "id": "ed2b2e85",
   "metadata": {},
   "source": [
    "Query 1"
   ]
  },
  {
   "cell_type": "code",
   "execution_count": 124,
   "id": "0cf25893",
   "metadata": {
    "scrolled": true
   },
   "outputs": [
    {
     "name": "stdout",
     "output_type": "stream",
     "text": [
      "Temps d'exécution moyen pour 8 exécutions : 0.11653965711593628 secondes\n"
     ]
    }
   ],
   "source": [
    "import time\n",
    "from pymongo import MongoClient\n",
    "\n",
    "db = client['myDatabase']\n",
    "collection = db['movies']\n",
    "\n",
    "nb_executions = 10\n",
    "temps_executions = []\n",
    "i=0\n",
    "\n",
    "for i in range(nb_executions):\n",
    "    start_time = time.time()\n",
    "    query1 = {\n",
    "            \"list_genres\": \"Sci-Fi\",\n",
    "            \"rank\": {\n",
    "                \"$gt\": 8\n",
    "            }\n",
    "        }\n",
    "\n",
    "   \n",
    "    projection1 = {\n",
    "        \"name\": 1,\n",
    "        \"rank\": 1,\n",
    "        \"_id\": 0 \n",
    "    }\n",
    "\n",
    "\n",
    "\n",
    "    \n",
    "   \n",
    "    result = collection.find(query1,projection1)\n",
    "\n",
    "    for document in result:\n",
    "          pass\n",
    "    \n",
    "    end_time = time.time()\n",
    "    temps_execution = end_time - start_time\n",
    "    \n",
    "    temps_executions.append(temps_execution)\n",
    "            \n",
    "temps_executions.remove(max(temps_executions))\n",
    "temps_executions.remove(min(temps_executions))\n",
    "\n",
    "\n",
    "temps_moyen = sum(temps_executions) / len(temps_executions)\n",
    "\n",
    "print(f\"Temps d'exécution moyen pour {nb_executions - 2} exécutions : {temps_moyen} secondes\")\n"
   ]
  },
  {
   "cell_type": "markdown",
   "id": "46c448a4",
   "metadata": {},
   "source": [
    "query 2"
   ]
  },
  {
   "cell_type": "code",
   "execution_count": 125,
   "id": "dfe156af",
   "metadata": {},
   "outputs": [
    {
     "name": "stdout",
     "output_type": "stream",
     "text": [
      "Temps d'exécution moyen pour 8 exécutions : 0.0418914258480072 secondes\n"
     ]
    }
   ],
   "source": [
    "import time\n",
    "from pymongo import MongoClient\n",
    "\n",
    "db = client['myDatabase']\n",
    "collection = db['directors']\n",
    "\n",
    "\n",
    "nb_executions = 10\n",
    "temps_executions = []\n",
    "i=0\n",
    "res = 0\n",
    "for i in range(nb_executions):\n",
    "    start_time = time.time()\n",
    "    query2 = {\n",
    "            \"dict_genres_den_prob.Romance\": {\n",
    "                \"$exists\": True,\n",
    "                \"$ne\": [None, 0]\n",
    "            }\n",
    "        }\n",
    "\n",
    "    projection2 = {\n",
    "        \"first_name\": 1,\n",
    "        \"last_name\": 1,\n",
    "        \"_id\": 0  \n",
    "    }\n",
    "\n",
    "\n",
    "    \n",
    "   \n",
    "    result = collection.find(query2,projection2)\n",
    "    for document in result:\n",
    "        pass\n",
    "    \n",
    "    end_time = time.time()\n",
    "    temps_execution = end_time - start_time\n",
    "    \n",
    "    temps_executions.append(temps_execution)\n",
    "\n",
    "       \n",
    "            \n",
    "temps_executions.remove(max(temps_executions))\n",
    "temps_executions.remove(min(temps_executions))\n",
    "\n",
    "temps_moyen = sum(temps_executions) / len(temps_executions)\n",
    "print(f\"Temps d'exécution moyen pour {nb_executions - 2} exécutions : {temps_moyen} secondes\")\n"
   ]
  },
  {
   "cell_type": "markdown",
   "id": "7c0ae32a",
   "metadata": {},
   "source": [
    "query 3"
   ]
  },
  {
   "cell_type": "code",
   "execution_count": 127,
   "id": "0015305b",
   "metadata": {},
   "outputs": [
    {
     "name": "stdout",
     "output_type": "stream",
     "text": [
      "Temps d'exécution moyen pour 8 exécutions : 0.017431825399398804 secondes\n"
     ]
    }
   ],
   "source": [
    "import time\n",
    "from pymongo import MongoClient\n",
    "\n",
    "\n",
    "db = client['myDatabase']\n",
    "collection = db['movies']\n",
    "\n",
    "\n",
    "nb_executions = 10\n",
    "temps_executions = []\n",
    "i=0\n",
    "\n",
    "for i in range(nb_executions):\n",
    "    start_time = time.time()\n",
    "    query3 = {\n",
    "            \"list_genres\": \"Animation\",\n",
    "            \"year\": 1995\n",
    "        }\n",
    "    \n",
    "    projection3 = {\n",
    "        \"name\": 1,\n",
    "        \"_id\": 0  \n",
    "    }\n",
    "\n",
    "\n",
    "\n",
    "    result = collection.find(query3,projection3)\n",
    "    \n",
    "    for document in result:\n",
    "        pass\n",
    "    \n",
    "    end_time = time.time()\n",
    "    temps_execution = end_time - start_time\n",
    "    \n",
    "    temps_executions.append(temps_execution)\n",
    "\n",
    "\n",
    "temps_executions.remove(max(temps_executions))\n",
    "temps_executions.remove(min(temps_executions))\n",
    "\n",
    "\n",
    "temps_moyen = sum(temps_executions) / len(temps_executions)\n",
    "\n",
    "print(f\"Temps d'exécution moyen pour {nb_executions - 2} exécutions : {temps_moyen} secondes\")\n"
   ]
  },
  {
   "cell_type": "markdown",
   "id": "c29e3359",
   "metadata": {},
   "source": [
    "query 4"
   ]
  },
  {
   "cell_type": "code",
   "execution_count": 128,
   "id": "26695527",
   "metadata": {},
   "outputs": [
    {
     "name": "stdout",
     "output_type": "stream",
     "text": [
      "Temps d'exécution moyen pour 8 exécutions : 0.15224748849868774 secondes\n"
     ]
    }
   ],
   "source": [
    "import time\n",
    "from pymongo import MongoClient\n",
    "\n",
    "\n",
    "db = client['myDatabase']\n",
    "collection_directors = db['directors']\n",
    "collection_movies = db['movies']\n",
    "\n",
    "nb_executions = 10\n",
    "temps_executions = []\n",
    "i=0\n",
    "\n",
    "for i in range(nb_executions):\n",
    "    start_time = time.time()\n",
    "    kurosawa_movies = collection_directors.find_one(\n",
    "            {\n",
    "                \"first_name\": \"Akira\",\n",
    "                \"last_name\": \"Kurosawa\"\n",
    "            },\n",
    "            {\n",
    "                \"list_movies_id\": 1,\n",
    "                \"_id\": 0\n",
    "            }\n",
    "        )\n",
    "\n",
    "    kurosawa_movies_id = kurosawa_movies[\"list_movies_id\"] if kurosawa_movies else []\n",
    "\n",
    "\n",
    "    query4 = {\n",
    "        \"id\": {\n",
    "            \"$in\": kurosawa_movies_id\n",
    "        },\n",
    "        \"list_genres\": \"Drama\"\n",
    "    }\n",
    "\n",
    "\n",
    "    \n",
    "    \n",
    "    result = collection_movies.find(query4)\n",
    "    \n",
    "    for document in result:\n",
    "        pass\n",
    "    \n",
    "    end_time = time.time()\n",
    "    temps_execution = end_time - start_time\n",
    "    \n",
    "    temps_executions.append(temps_execution)\n",
    "\n",
    "\n",
    "temps_executions.remove(max(temps_executions))\n",
    "temps_executions.remove(min(temps_executions))\n",
    "\n",
    "\n",
    "temps_moyen = sum(temps_executions) / len(temps_executions)\n",
    "\n",
    "print(f\"Temps d'exécution moyen pour {nb_executions - 2} exécutions : {temps_moyen} secondes\")\n"
   ]
  },
  {
   "cell_type": "markdown",
   "id": "f53de1b5",
   "metadata": {},
   "source": [
    "query 5"
   ]
  },
  {
   "cell_type": "code",
   "execution_count": 130,
   "id": "72e038cf",
   "metadata": {},
   "outputs": [
    {
     "name": "stdout",
     "output_type": "stream",
     "text": [
      "Temps d'exécution moyen pour 8 exécutions : 0.1441022753715515 secondes\n"
     ]
    }
   ],
   "source": [
    "import time\n",
    "from pymongo import MongoClient\n",
    "\n",
    "\n",
    "db = client['myDatabase']\n",
    "collection_directors = db['directors']\n",
    "collection_movies = db['movies']\n",
    "\n",
    "nb_executions = 10\n",
    "temps_executions = []\n",
    "i=0\n",
    "\n",
    "for i in range(nb_executions):\n",
    "    start_time = time.time()\n",
    "    agnes_varda = collection_directors.find_one({\n",
    "    \"first_name\": \"Agnès\",\n",
    "    \"last_name\": \"Varda\"\n",
    "    })\n",
    "\n",
    "    id_varda_movies = agnes_varda[\"list_movies_id\"] if agnes_varda else []\n",
    "\n",
    "\n",
    "    pipeline = [\n",
    "        {\n",
    "            \"$match\": {\n",
    "                \"id\": {\"$in\": id_varda_movies},\n",
    "                \"rank\": {\n",
    "                    '$exists': True,\n",
    "                    '$ne': float('nan')\n",
    "                }\n",
    "            }\n",
    "        },\n",
    "        {\n",
    "            \"$group\": {\n",
    "                \"_id\": None,\n",
    "                \"averageRank\": {\"$avg\": \"$rank\"}\n",
    "            }\n",
    "        }\n",
    "    ]\n",
    "\n",
    "\n",
    "\n",
    "\n",
    "    result = collection_movies.aggregate(pipeline)\n",
    "\n",
    "    \n",
    "    for document in result:\n",
    "        pass\n",
    "    \n",
    "    end_time = time.time()\n",
    "    temps_execution = end_time - start_time\n",
    "    \n",
    "    temps_executions.append(temps_execution)\n",
    "\n",
    "\n",
    "temps_executions.remove(max(temps_executions))\n",
    "temps_executions.remove(min(temps_executions))\n",
    "\n",
    "\n",
    "temps_moyen = sum(temps_executions) / len(temps_executions)\n",
    "\n",
    "print(f\"Temps d'exécution moyen pour {nb_executions - 2} exécutions : {temps_moyen} secondes\")\n"
   ]
  },
  {
   "cell_type": "markdown",
   "id": "4d24c9d1",
   "metadata": {},
   "source": [
    "query 6"
   ]
  },
  {
   "cell_type": "code",
   "execution_count": 134,
   "id": "9884b661",
   "metadata": {},
   "outputs": [
    {
     "name": "stdout",
     "output_type": "stream",
     "text": [
      "Temps d'exécution moyen pour 8 exécutions : 0.21787092089653015 secondes\n"
     ]
    }
   ],
   "source": [
    "import time\n",
    "from pymongo import MongoClient\n",
    "\n",
    "db = client['myDatabase']\n",
    "collection_directors = db['directors']\n",
    "collection_movies = db['movies']\n",
    "nb_executions = 10\n",
    "temps_executions = []\n",
    "i=0\n",
    "\n",
    "for i in range(nb_executions):\n",
    "    start_time = time.time()\n",
    "\n",
    "    pipeline = [\n",
    "        {\n",
    "            \"$project\": {\n",
    "                \"first_name\": 1,\n",
    "                \"last_name\": 1,\n",
    "                \"filteredGenres\": {\n",
    "                    \"$filter\": {\n",
    "                        \"input\": {\n",
    "                            \"$objectToArray\": \"$dict_genres_den_prob\"\n",
    "                        },\n",
    "                        \"as\": \"genre\",\n",
    "                        \"cond\": {\n",
    "                            \"$and\": [\n",
    "                                {\"$ne\": [\"$$genre.v\", None]},\n",
    "                                {\"$ne\": [\"$$genre.v\", 0]}\n",
    "                            ]\n",
    "                        }\n",
    "                    }\n",
    "                }\n",
    "            }\n",
    "        },\n",
    "        {\n",
    "            \"$match\": {\n",
    "                \"$and\": [\n",
    "                    {\"filteredGenres\": {\"$exists\": True}},\n",
    "                    {\"filteredGenres\": {\"$ne\": None}},\n",
    "                    {\n",
    "                        \"$expr\": {\n",
    "                            \"$eq\": [\n",
    "                                {\"$size\": \"$filteredGenres\"},\n",
    "                                2\n",
    "                            ]\n",
    "                        }\n",
    "                    }\n",
    "                ]\n",
    "            }\n",
    "        },\n",
    "        {\n",
    "            \"$project\": {\n",
    "                \"first_name\": 1,\n",
    "                \"last_name\": 1\n",
    "            }\n",
    "        }\n",
    "    ]\n",
    "\n",
    "    result = collection_directors.aggregate(pipeline)\n",
    "\n",
    "    \n",
    "    for document in result:\n",
    "        pass\n",
    "    \n",
    "    end_time = time.time()\n",
    "    temps_execution = end_time - start_time\n",
    "    \n",
    "    temps_executions.append(temps_execution)\n",
    "\n",
    "temps_executions.remove(max(temps_executions))\n",
    "temps_executions.remove(min(temps_executions))\n",
    "temps_moyen = sum(temps_executions) / len(temps_executions)\n",
    "print(f\"Temps d'exécution moyen pour {nb_executions - 2} exécutions : {temps_moyen} secondes\")\n"
   ]
  },
  {
   "cell_type": "markdown",
   "id": "10ee3172",
   "metadata": {},
   "source": [
    "Query 7"
   ]
  },
  {
   "cell_type": "code",
   "execution_count": 135,
   "id": "15d38524",
   "metadata": {},
   "outputs": [
    {
     "name": "stdout",
     "output_type": "stream",
     "text": [
      "Temps d'exécution moyen pour 8 exécutions : 0.13344335556030273 secondes\n"
     ]
    }
   ],
   "source": [
    "import time\n",
    "from pymongo import MongoClient\n",
    "\n",
    "\n",
    "db = client['myDatabase']\n",
    "collection_directors = db['directors']\n",
    "collection_movies = db['movies']\n",
    "\n",
    "nb_executions = 10\n",
    "temps_executions = []\n",
    "i=0\n",
    "\n",
    "for i in range(nb_executions):\n",
    "    start_time = time.time()\n",
    "\n",
    "    query = {\n",
    "        \"den_nb_actors\": { \"$lt\": 5 },\n",
    "        \"rank\": { \"$gt\": 7 }\n",
    "    }\n",
    "\n",
    "\n",
    "    projection = {\n",
    "        \"name\": 1,\n",
    "        \"_id\": 0  \n",
    "    }\n",
    "\n",
    " \n",
    "    result = collection_movies.find(query, projection)\n",
    "\n",
    "    \n",
    "    for document in result:\n",
    "        pass\n",
    "    \n",
    "    end_time = time.time()\n",
    "    temps_execution = end_time - start_time\n",
    "    \n",
    "    temps_executions.append(temps_execution)\n",
    "\n",
    "\n",
    "temps_executions.remove(max(temps_executions))\n",
    "temps_executions.remove(min(temps_executions))\n",
    "\n",
    "\n",
    "temps_moyen = sum(temps_executions) / len(temps_executions)\n",
    "\n",
    "print(f\"Temps d'exécution moyen pour {nb_executions - 2} exécutions : {temps_moyen} secondes\")\n"
   ]
  },
  {
   "cell_type": "markdown",
   "id": "12f8df91",
   "metadata": {},
   "source": [
    "Query 8 "
   ]
  },
  {
   "cell_type": "code",
   "execution_count": 137,
   "id": "71778f78",
   "metadata": {
    "scrolled": true
   },
   "outputs": [
    {
     "name": "stdout",
     "output_type": "stream",
     "text": [
      "Temps d'exécution moyen pour 8 exécutions : 0.2217390537261963 secondes\n"
     ]
    }
   ],
   "source": [
    "import time\n",
    "from pymongo import MongoClient\n",
    "\n",
    "\n",
    "db = client['myDatabase']\n",
    "collection_directors = db['directors']  \n",
    "collection_movies = db['movies'] \n",
    "\n",
    "nb_executions = 10\n",
    "temps_executions = []\n",
    "i=0\n",
    "\n",
    "for i in range(nb_executions):\n",
    "    start_time = time.time()\n",
    "    pipeline_directors = [\n",
    "        {\n",
    "            \"$project\": {\n",
    "                \"id\": 1,\n",
    "                \"list_movies_id\":1,\n",
    "                \"full_name\": {\n",
    "                    \"$concat\": [ \"$first_name\", \" \", \"$last_name\" ]\n",
    "                }\n",
    "            }\n",
    "        },\n",
    "        {\n",
    "            \"$match\": {\n",
    "                \"full_name\": {\n",
    "                    \"$in\": [\n",
    "                        \"Mike Nichols\",\n",
    "                        \"Arthur Penn\",\n",
    "                        \"William Friedkin\",\n",
    "                        \"Stanley Kubrick\",\n",
    "                        \"Robert Altman\",\n",
    "                        \"Milos Forman\",\n",
    "                        \"Martin Scorcese\",\n",
    "                        \"Woody Allen\",\n",
    "                        \"Michael Cimino\",\n",
    "                        \"Francis Ford Coppola\"\n",
    "                    ]\n",
    "                }\n",
    "            }\n",
    "        },\n",
    "         {\n",
    "            \"$unwind\": \"$list_movies_id\"\n",
    "        },\n",
    "        {\n",
    "            \"$group\": {\n",
    "                \"_id\": None,\n",
    "                \"list_director_id\": { \"$push\": \"$list_movies_id\" }\n",
    "            }\n",
    "        }\n",
    "    ]\n",
    "    directors_new_h = collection_directors.aggregate(pipeline_directors)\n",
    "    directors_new_h_array = list(directors_new_h)\n",
    "    directors_new_h_id = directors_new_h_array[0]['list_director_id'] \n",
    "    pipeline_movies = [\n",
    "        {\n",
    "            \"$match\": {\n",
    "                \"id\": {\n",
    "                    \"$in\": directors_new_h_id\n",
    "                }\n",
    "            }\n",
    "        },\n",
    "        {\n",
    "            \"$unwind\": \"$list_genres\"\n",
    "        },\n",
    "        {\n",
    "            \"$group\": {\n",
    "                \"_id\": \"$list_genres\",\n",
    "                \"bestRank\": {\n",
    "                    \"$max\": {\n",
    "                        \"$cond\": {\n",
    "                            \"if\": { \"$eq\": [\"$rank\", None] },\n",
    "                            \"then\": float(\"-inf\"),\n",
    "                            \"else\": \"$rank\"\n",
    "                        }\n",
    "                    }\n",
    "                },\n",
    "                \"name\": { \"$first\": \"$name\" }\n",
    "            }\n",
    "        }\n",
    "    ]\n",
    "    result = collection_movies.aggregate(pipeline_movies)\n",
    "\n",
    "    for document in result:\n",
    "        pass\n",
    "        \n",
    "    end_time = time.time()\n",
    "    temps_execution = end_time - start_time\n",
    "    \n",
    "    temps_executions.append(temps_execution)\n",
    "    \n",
    "temps_executions.remove(max(temps_executions))\n",
    "temps_executions.remove(min(temps_executions))\n",
    "\n",
    "\n",
    "temps_moyen = sum(temps_executions) / len(temps_executions)\n",
    "\n",
    "print(f\"Temps d'exécution moyen pour {nb_executions - 2} exécutions : {temps_moyen} secondes\")\n"
   ]
  }
 ],
 "metadata": {
  "kernelspec": {
   "display_name": "Python 3 (ipykernel)",
   "language": "python",
   "name": "python3"
  },
  "language_info": {
   "codemirror_mode": {
    "name": "ipython",
    "version": 3
   },
   "file_extension": ".py",
   "mimetype": "text/x-python",
   "name": "python",
   "nbconvert_exporter": "python",
   "pygments_lexer": "ipython3",
   "version": "3.9.18"
  }
 },
 "nbformat": 4,
 "nbformat_minor": 5
}
