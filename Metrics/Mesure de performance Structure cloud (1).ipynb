{
 "cells": [
  {
   "cell_type": "markdown",
   "id": "58dbb39c",
   "metadata": {},
   "source": [
    "# Import des données"
   ]
  },
  {
   "cell_type": "code",
   "execution_count": 1,
   "id": "ac3f9162",
   "metadata": {},
   "outputs": [
    {
     "name": "stderr",
     "output_type": "stream",
     "text": [
      "C:\\Users\\willi\\anaconda3\\lib\\site-packages\\requests\\__init__.py:102: RequestsDependencyWarning: urllib3 (1.26.9) or chardet (5.1.0)/charset_normalizer (2.0.4) doesn't match a supported version!\n",
      "  warnings.warn(\"urllib3 ({}) or chardet ({})/charset_normalizer ({}) doesn't match a supported \"\n"
     ]
    }
   ],
   "source": [
    "import pymongo\n",
    "\n",
    "client = pymongo.MongoClient('mongodb://localhost:27017/')\n",
    "db = client['myDatabase']"
   ]
  },
  {
   "cell_type": "code",
   "execution_count": 2,
   "id": "7f5eb21e",
   "metadata": {},
   "outputs": [],
   "source": [
    "import pandas as pd\n",
    "import numpy as np\n",
    "\n",
    "json_data_actors = pd.read_json('C:/Users/willi/Desktop/denActors.json', lines=True)\n",
    "\n",
    "json_data_movies = pd.read_json('C:/Users/willi/Desktop/denMovies.json', lines=True)\n",
    "\n",
    "json_data_movies['rank'] = pd.to_numeric(json_data_movies['rank'], errors='coerce')\n",
    "\n",
    "json_data_movies['year'] = pd.to_numeric(json_data_movies['year'], errors='coerce').astype('Int64')\n",
    "json_data_movies[\"year\"] = json_data_movies[\"year\"].replace({pd.NA:-1})\n",
    "\n",
    "json_data_directors = pd.read_json('C:/Users/willi/Desktop/denDirectors.json', lines=True)\n"
   ]
  },
  {
   "cell_type": "code",
   "execution_count": 3,
   "id": "14aed1db",
   "metadata": {},
   "outputs": [],
   "source": [
    "data_insert_actors = json_data_actors.to_dict(orient='records')\n",
    "data_insert_movies = json_data_movies.to_dict(orient='records')\n",
    "data_insert_directors = json_data_directors.to_dict(orient='records')"
   ]
  },
  {
   "cell_type": "markdown",
   "id": "240bf230",
   "metadata": {},
   "source": [
    "Insertion des json directors dans la db"
   ]
  },
  {
   "cell_type": "code",
   "execution_count": 4,
   "id": "373b9995",
   "metadata": {},
   "outputs": [
    {
     "name": "stdout",
     "output_type": "stream",
     "text": [
      "Inserted 86881 documents\n"
     ]
    }
   ],
   "source": [
    "db = client['myDatabase']\n",
    "\n",
    "collection = db['directors']\n",
    "\n",
    "result = collection.insert_many(data_insert_directors)\n",
    "print(f\"Inserted {len(result.inserted_ids)} documents\")"
   ]
  },
  {
   "cell_type": "markdown",
   "id": "e095e765",
   "metadata": {},
   "source": [
    "Insertion des json movies dans la db"
   ]
  },
  {
   "cell_type": "code",
   "execution_count": 5,
   "id": "a3992dd9",
   "metadata": {},
   "outputs": [
    {
     "name": "stdout",
     "output_type": "stream",
     "text": [
      "Inserted 388270 documents\n"
     ]
    }
   ],
   "source": [
    "db = client['myDatabase']\n",
    "\n",
    "collection = db['movies']\n",
    "\n",
    "result = collection.insert_many(data_insert_movies)\n",
    "print(f\"Inserted {len(result.inserted_ids)} documents\")"
   ]
  },
  {
   "cell_type": "markdown",
   "id": "fa53892e",
   "metadata": {},
   "source": [
    "Insert du json actors dans la db:"
   ]
  },
  {
   "cell_type": "code",
   "execution_count": 6,
   "id": "9f15c4b6",
   "metadata": {
    "scrolled": true
   },
   "outputs": [
    {
     "name": "stdout",
     "output_type": "stream",
     "text": [
      "Inserted 817719 documents\n"
     ]
    }
   ],
   "source": [
    "db = client['myDatabase']\n",
    "\n",
    "collection = db['actors']\n",
    "\n",
    "result = collection.insert_many(data_insert_actors)\n",
    "print(f\"Inserted {len(result.inserted_ids)} documents\")"
   ]
  },
  {
   "cell_type": "markdown",
   "id": "4b180f3f",
   "metadata": {},
   "source": [
    "# Mesure des performances"
   ]
  },
  {
   "cell_type": "markdown",
   "id": "ed2b2e85",
   "metadata": {},
   "source": [
    "Query 1"
   ]
  },
  {
   "cell_type": "code",
   "execution_count": 124,
   "id": "0cf25893",
   "metadata": {
    "scrolled": true
   },
   "outputs": [
    {
     "name": "stdout",
     "output_type": "stream",
     "text": [
      "Temps d'exécution moyen pour 8 exécutions : 0.11653965711593628 secondes\n"
     ]
    }
   ],
   "source": [
    "import time\n",
    "from pymongo import MongoClient\n",
    "\n",
    "db = client['myDatabase']\n",
    "collection = db['movies']\n",
    "\n",
    "nb_executions = 10\n",
    "temps_executions = []\n",
    "i=0\n",
    "\n",
    "for i in range(nb_executions):\n",
    "    start_time = time.time()\n",
    "    query1 = {\n",
    "            \"list_genres\": \"Sci-Fi\",\n",
    "            \"rank\": {\n",
    "                \"$gt\": 8\n",
    "            }\n",
    "        }\n",
    "\n",
    "   \n",
    "    projection1 = {\n",
    "        \"name\": 1,\n",
    "        \"rank\": 1,\n",
    "        \"_id\": 0 \n",
    "    }\n",
    "\n",
    "\n",
    "\n",
    "    \n",
    "   \n",
    "    result = collection.find(query1,projection1)\n",
    "\n",
    "    for document in result:\n",
    "          pass\n",
    "    \n",
    "    end_time = time.time()\n",
    "    temps_execution = end_time - start_time\n",
    "    \n",
    "    temps_executions.append(temps_execution)\n",
    "            \n",
    "temps_executions.remove(max(temps_executions))\n",
    "temps_executions.remove(min(temps_executions))\n",
    "\n",
    "\n",
    "temps_moyen = sum(temps_executions) / len(temps_executions)\n",
    "\n",
    "print(f\"Temps d'exécution moyen pour {nb_executions - 2} exécutions : {temps_moyen} secondes\")\n"
   ]
  },
  {
   "cell_type": "markdown",
   "id": "46c448a4",
   "metadata": {},
   "source": [
    "query 2"
   ]
  },
  {
   "cell_type": "code",
   "execution_count": 125,
   "id": "dfe156af",
   "metadata": {},
   "outputs": [
    {
     "name": "stdout",
     "output_type": "stream",
     "text": [
      "Temps d'exécution moyen pour 8 exécutions : 0.0418914258480072 secondes\n"
     ]
    }
   ],
   "source": [
    "import time\n",
    "from pymongo import MongoClient\n",
    "\n",
    "db = client['myDatabase']\n",
    "collection = db['directors']\n",
    "\n",
    "\n",
    "nb_executions = 10\n",
    "temps_executions = []\n",
    "i=0\n",
    "res = 0\n",
    "for i in range(nb_executions):\n",
    "    start_time = time.time()\n",
    "    query2 = {\n",
    "            \"dict_genres_den_prob.Romance\": {\n",
    "                \"$exists\": True,\n",
    "                \"$ne\": [None, 0]\n",
    "            }\n",
    "        }\n",
    "\n",
    "    projection2 = {\n",
    "        \"first_name\": 1,\n",
    "        \"last_name\": 1,\n",
    "        \"_id\": 0  \n",
    "    }\n",
    "\n",
    "\n",
    "    \n",
    "   \n",
    "    result = collection.find(query2,projection2)\n",
    "    for document in result:\n",
    "        pass\n",
    "    \n",
    "    end_time = time.time()\n",
    "    temps_execution = end_time - start_time\n",
    "    \n",
    "    temps_executions.append(temps_execution)\n",
    "\n",
    "       \n",
    "            \n",
    "temps_executions.remove(max(temps_executions))\n",
    "temps_executions.remove(min(temps_executions))\n",
    "\n",
    "temps_moyen = sum(temps_executions) / len(temps_executions)\n",
    "print(f\"Temps d'exécution moyen pour {nb_executions - 2} exécutions : {temps_moyen} secondes\")\n"
   ]
  },
  {
   "cell_type": "markdown",
   "id": "7c0ae32a",
   "metadata": {},
   "source": [
    "query 3"
   ]
  },
  {
   "cell_type": "code",
   "execution_count": 127,
   "id": "0015305b",
   "metadata": {},
   "outputs": [
    {
     "name": "stdout",
     "output_type": "stream",
     "text": [
      "Temps d'exécution moyen pour 8 exécutions : 0.017431825399398804 secondes\n"
     ]
    }
   ],
   "source": [
    "import time\n",
    "from pymongo import MongoClient\n",
    "\n",
    "\n",
    "db = client['myDatabase']\n",
    "collection = db['movies']\n",
    "\n",
    "\n",
    "nb_executions = 10\n",
    "temps_executions = []\n",
    "i=0\n",
    "\n",
    "for i in range(nb_executions):\n",
    "    start_time = time.time()\n",
    "    query3 = {\n",
    "            \"list_genres\": \"Animation\",\n",
    "            \"year\": 1995\n",
    "        }\n",
    "    \n",
    "    projection3 = {\n",
    "        \"name\": 1,\n",
    "        \"_id\": 0  \n",
    "    }\n",
    "\n",
    "\n",
    "\n",
    "    result = collection.find(query3,projection3)\n",
    "    \n",
    "    for document in result:\n",
    "        pass\n",
    "    \n",
    "    end_time = time.time()\n",
    "    temps_execution = end_time - start_time\n",
    "    \n",
    "    temps_executions.append(temps_execution)\n",
    "\n",
    "\n",
    "temps_executions.remove(max(temps_executions))\n",
    "temps_executions.remove(min(temps_executions))\n",
    "\n",
    "\n",
    "temps_moyen = sum(temps_executions) / len(temps_executions)\n",
    "\n",
    "print(f\"Temps d'exécution moyen pour {nb_executions - 2} exécutions : {temps_moyen} secondes\")\n"
   ]
  },
  {
   "cell_type": "markdown",
   "id": "c29e3359",
   "metadata": {},
   "source": [
    "query 4"
   ]
  },
  {
   "cell_type": "code",
   "execution_count": 128,
   "id": "26695527",
   "metadata": {},
   "outputs": [
    {
     "name": "stdout",
     "output_type": "stream",
     "text": [
      "Temps d'exécution moyen pour 8 exécutions : 0.15224748849868774 secondes\n"
     ]
    }
   ],
   "source": [
    "import time\n",
    "from pymongo import MongoClient\n",
    "\n",
    "\n",
    "db = client['myDatabase']\n",
    "collection_directors = db['directors']\n",
    "collection_movies = db['movies']\n",
    "\n",
    "nb_executions = 10\n",
    "temps_executions = []\n",
    "i=0\n",
    "\n",
    "for i in range(nb_executions):\n",
    "    start_time = time.time()\n",
    "    kurosawa_movies = collection_directors.find_one(\n",
    "            {\n",
    "                \"first_name\": \"Akira\",\n",
    "                \"last_name\": \"Kurosawa\"\n",
    "            },\n",
    "            {\n",
    "                \"list_movies_id\": 1,\n",
    "                \"_id\": 0\n",
    "            }\n",
    "        )\n",
    "\n",
    "    kurosawa_movies_id = kurosawa_movies[\"list_movies_id\"] if kurosawa_movies else []\n",
    "\n",
    "\n",
    "    query4 = {\n",
    "        \"id\": {\n",
    "            \"$in\": kurosawa_movies_id\n",
    "        },\n",
    "        \"list_genres\": \"Drama\"\n",
    "    }\n",
    "\n",
    "\n",
    "    \n",
    "    \n",
    "    result = collection_movies.find(query4)\n",
    "    \n",
    "    for document in result:\n",
    "        pass\n",
    "    \n",
    "    end_time = time.time()\n",
    "    temps_execution = end_time - start_time\n",
    "    \n",
    "    temps_executions.append(temps_execution)\n",
    "\n",
    "\n",
    "temps_executions.remove(max(temps_executions))\n",
    "temps_executions.remove(min(temps_executions))\n",
    "\n",
    "\n",
    "temps_moyen = sum(temps_executions) / len(temps_executions)\n",
    "\n",
    "print(f\"Temps d'exécution moyen pour {nb_executions - 2} exécutions : {temps_moyen} secondes\")\n"
   ]
  },
  {
   "cell_type": "markdown",
   "id": "f53de1b5",
   "metadata": {},
   "source": [
    "query 5"
   ]
  },
  {
   "cell_type": "code",
   "execution_count": 130,
   "id": "72e038cf",
   "metadata": {},
   "outputs": [
    {
     "name": "stdout",
     "output_type": "stream",
     "text": [
      "Temps d'exécution moyen pour 8 exécutions : 0.1441022753715515 secondes\n"
     ]
    }
   ],
   "source": [
    "import time\n",
    "from pymongo import MongoClient\n",
    "\n",
    "\n",
    "db = client['myDatabase']\n",
    "collection_directors = db['directors']\n",
    "collection_movies = db['movies']\n",
    "\n",
    "nb_executions = 10\n",
    "temps_executions = []\n",
    "i=0\n",
    "\n",
    "for i in range(nb_executions):\n",
    "    start_time = time.time()\n",
    "    agnes_varda = collection_directors.find_one({\n",
    "    \"first_name\": \"Agnès\",\n",
    "    \"last_name\": \"Varda\"\n",
    "    })\n",
    "\n",
    "    id_varda_movies = agnes_varda[\"list_movies_id\"] if agnes_varda else []\n",
    "\n",
    "\n",
    "    pipeline = [\n",
    "        {\n",
    "            \"$match\": {\n",
    "                \"id\": {\"$in\": id_varda_movies},\n",
    "                \"rank\": {\n",
    "                    '$exists': True,\n",
    "                    '$ne': float('nan')\n",
    "                }\n",
    "            }\n",
    "        },\n",
    "        {\n",
    "            \"$group\": {\n",
    "                \"_id\": None,\n",
    "                \"averageRank\": {\"$avg\": \"$rank\"}\n",
    "            }\n",
    "        }\n",
    "    ]\n",
    "\n",
    "\n",
    "\n",
    "\n",
    "    result = collection_movies.aggregate(pipeline)\n",
    "\n",
    "    \n",
    "    for document in result:\n",
    "        pass\n",
    "    \n",
    "    end_time = time.time()\n",
    "    temps_execution = end_time - start_time\n",
    "    \n",
    "    temps_executions.append(temps_execution)\n",
    "\n",
    "\n",
    "temps_executions.remove(max(temps_executions))\n",
    "temps_executions.remove(min(temps_executions))\n",
    "\n",
    "\n",
    "temps_moyen = sum(temps_executions) / len(temps_executions)\n",
    "\n",
    "print(f\"Temps d'exécution moyen pour {nb_executions - 2} exécutions : {temps_moyen} secondes\")\n"
   ]
  },
  {
   "cell_type": "markdown",
   "id": "4d24c9d1",
   "metadata": {},
   "source": [
    "query 6"
   ]
  },
  {
   "cell_type": "code",
   "execution_count": 134,
   "id": "9884b661",
   "metadata": {},
   "outputs": [
    {
     "name": "stdout",
     "output_type": "stream",
     "text": [
      "Temps d'exécution moyen pour 8 exécutions : 0.21787092089653015 secondes\n"
     ]
    }
   ],
   "source": [
    "import time\n",
    "from pymongo import MongoClient\n",
    "\n",
    "db = client['myDatabase']\n",
    "collection_directors = db['directors']\n",
    "collection_movies = db['movies']\n",
    "nb_executions = 10\n",
    "temps_executions = []\n",
    "i=0\n",
    "\n",
    "for i in range(nb_executions):\n",
    "    start_time = time.time()\n",
    "\n",
    "    pipeline = [\n",
    "        {\n",
    "            \"$project\": {\n",
    "                \"first_name\": 1,\n",
    "                \"last_name\": 1,\n",
    "                \"filteredGenres\": {\n",
    "                    \"$filter\": {\n",
    "                        \"input\": {\n",
    "                            \"$objectToArray\": \"$dict_genres_den_prob\"\n",
    "                        },\n",
    "                        \"as\": \"genre\",\n",
    "                        \"cond\": {\n",
    "                            \"$and\": [\n",
    "                                {\"$ne\": [\"$$genre.v\", None]},\n",
    "                                {\"$ne\": [\"$$genre.v\", 0]}\n",
    "                            ]\n",
    "                        }\n",
    "                    }\n",
    "                }\n",
    "            }\n",
    "        },\n",
    "        {\n",
    "            \"$match\": {\n",
    "                \"$and\": [\n",
    "                    {\"filteredGenres\": {\"$exists\": True}},\n",
    "                    {\"filteredGenres\": {\"$ne\": None}},\n",
    "                    {\n",
    "                        \"$expr\": {\n",
    "                            \"$eq\": [\n",
    "                                {\"$size\": \"$filteredGenres\"},\n",
    "                                2\n",
    "                            ]\n",
    "                        }\n",
    "                    }\n",
    "                ]\n",
    "            }\n",
    "        },\n",
    "        {\n",
    "            \"$project\": {\n",
    "                \"first_name\": 1,\n",
    "                \"last_name\": 1\n",
    "            }\n",
    "        }\n",
    "    ]\n",
    "\n",
    "    result = collection_directors.aggregate(pipeline)\n",
    "\n",
    "    \n",
    "    for document in result:\n",
    "        pass\n",
    "    \n",
    "    end_time = time.time()\n",
    "    temps_execution = end_time - start_time\n",
    "    \n",
    "    temps_executions.append(temps_execution)\n",
    "\n",
    "temps_executions.remove(max(temps_executions))\n",
    "temps_executions.remove(min(temps_executions))\n",
    "temps_moyen = sum(temps_executions) / len(temps_executions)\n",
    "print(f\"Temps d'exécution moyen pour {nb_executions - 2} exécutions : {temps_moyen} secondes\")\n"
   ]
  },
  {
   "cell_type": "markdown",
   "id": "10ee3172",
   "metadata": {},
   "source": [
    "Query 7"
   ]
  },
  {
   "cell_type": "code",
   "execution_count": 135,
   "id": "15d38524",
   "metadata": {},
   "outputs": [
    {
     "name": "stdout",
     "output_type": "stream",
     "text": [
      "Temps d'exécution moyen pour 8 exécutions : 0.13344335556030273 secondes\n"
     ]
    }
   ],
   "source": [
    "import time\n",
    "from pymongo import MongoClient\n",
    "\n",
    "\n",
    "db = client['myDatabase']\n",
    "collection_directors = db['directors']\n",
    "collection_movies = db['movies']\n",
    "\n",
    "nb_executions = 10\n",
    "temps_executions = []\n",
    "i=0\n",
    "\n",
    "for i in range(nb_executions):\n",
    "    start_time = time.time()\n",
    "\n",
    "    query = {\n",
    "        \"den_nb_actors\": { \"$lt\": 5 },\n",
    "        \"rank\": { \"$gt\": 7 }\n",
    "    }\n",
    "\n",
    "\n",
    "    projection = {\n",
    "        \"name\": 1,\n",
    "        \"_id\": 0  \n",
    "    }\n",
    "\n",
    " \n",
    "    result = collection_movies.find(query, projection)\n",
    "\n",
    "    \n",
    "    for document in result:\n",
    "        pass\n",
    "    \n",
    "    end_time = time.time()\n",
    "    temps_execution = end_time - start_time\n",
    "    \n",
    "    temps_executions.append(temps_execution)\n",
    "\n",
    "\n",
    "temps_executions.remove(max(temps_executions))\n",
    "temps_executions.remove(min(temps_executions))\n",
    "\n",
    "\n",
    "temps_moyen = sum(temps_executions) / len(temps_executions)\n",
    "\n",
    "print(f\"Temps d'exécution moyen pour {nb_executions - 2} exécutions : {temps_moyen} secondes\")\n"
   ]
  },
  {
   "cell_type": "markdown",
   "id": "12f8df91",
   "metadata": {},
   "source": [
    "Query 8 "
   ]
  },
  {
   "cell_type": "code",
   "execution_count": 137,
   "id": "71778f78",
   "metadata": {
    "scrolled": true
   },
   "outputs": [
    {
     "name": "stdout",
     "output_type": "stream",
     "text": [
      "Temps d'exécution moyen pour 8 exécutions : 0.2217390537261963 secondes\n"
     ]
    }
   ],
   "source": [
    "import time\n",
    "from pymongo import MongoClient\n",
    "\n",
    "\n",
    "db = client['myDatabase']\n",
    "collection_directors = db['directors']  \n",
    "collection_movies = db['movies'] \n",
    "\n",
    "nb_executions = 10\n",
    "temps_executions = []\n",
    "i=0\n",
    "\n",
    "for i in range(nb_executions):\n",
    "    start_time = time.time()\n",
    "    pipeline_directors = [\n",
    "        {\n",
    "            \"$project\": {\n",
    "                \"id\": 1,\n",
    "                \"list_movies_id\":1,\n",
    "                \"full_name\": {\n",
    "                    \"$concat\": [ \"$first_name\", \" \", \"$last_name\" ]\n",
    "                }\n",
    "            }\n",
    "        },\n",
    "        {\n",
    "            \"$match\": {\n",
    "                \"full_name\": {\n",
    "                    \"$in\": [\n",
    "                        \"Mike Nichols\",\n",
    "                        \"Arthur Penn\",\n",
    "                        \"William Friedkin\",\n",
    "                        \"Stanley Kubrick\",\n",
    "                        \"Robert Altman\",\n",
    "                        \"Milos Forman\",\n",
    "                        \"Martin Scorcese\",\n",
    "                        \"Woody Allen\",\n",
    "                        \"Michael Cimino\",\n",
    "                        \"Francis Ford Coppola\"\n",
    "                    ]\n",
    "                }\n",
    "            }\n",
    "        },\n",
    "         {\n",
    "            \"$unwind\": \"$list_movies_id\"\n",
    "        },\n",
    "        {\n",
    "            \"$group\": {\n",
    "                \"_id\": None,\n",
    "                \"list_director_id\": { \"$push\": \"$list_movies_id\" }\n",
    "            }\n",
    "        }\n",
    "    ]\n",
    "    directors_new_h = collection_directors.aggregate(pipeline_directors)\n",
    "    directors_new_h_array = list(directors_new_h)\n",
    "    directors_new_h_id = directors_new_h_array[0]['list_director_id'] \n",
    "    pipeline_movies = [\n",
    "        {\n",
    "            \"$match\": {\n",
    "                \"id\": {\n",
    "                    \"$in\": directors_new_h_id\n",
    "                }\n",
    "            }\n",
    "        },\n",
    "        {\n",
    "            \"$unwind\": \"$list_genres\"\n",
    "        },\n",
    "        {\n",
    "            \"$group\": {\n",
    "                \"_id\": \"$list_genres\",\n",
    "                \"bestRank\": {\n",
    "                    \"$max\": {\n",
    "                        \"$cond\": {\n",
    "                            \"if\": { \"$eq\": [\"$rank\", None] },\n",
    "                            \"then\": float(\"-inf\"),\n",
    "                            \"else\": \"$rank\"\n",
    "                        }\n",
    "                    }\n",
    "                },\n",
    "                \"name\": { \"$first\": \"$name\" }\n",
    "            }\n",
    "        }\n",
    "    ]\n",
    "    result = collection_movies.aggregate(pipeline_movies)\n",
    "\n",
    "    for document in result:\n",
    "        pass\n",
    "        \n",
    "    end_time = time.time()\n",
    "    temps_execution = end_time - start_time\n",
    "    \n",
    "    temps_executions.append(temps_execution)\n",
    "    \n",
    "temps_executions.remove(max(temps_executions))\n",
    "temps_executions.remove(min(temps_executions))\n",
    "\n",
    "\n",
    "temps_moyen = sum(temps_executions) / len(temps_executions)\n",
    "\n",
    "print(f\"Temps d'exécution moyen pour {nb_executions - 2} exécutions : {temps_moyen} secondes\")\n"
   ]
  }
 ],
 "metadata": {
  "kernelspec": {
   "display_name": "Python 3 (ipykernel)",
   "language": "python",
   "name": "python3"
  },
  "language_info": {
   "codemirror_mode": {
    "name": "ipython",
    "version": 3
   },
   "file_extension": ".py",
   "mimetype": "text/x-python",
   "name": "python",
   "nbconvert_exporter": "python",
   "pygments_lexer": "ipython3",
   "version": "3.9.12"
  }
 },
 "nbformat": 4,
 "nbformat_minor": 5
}
